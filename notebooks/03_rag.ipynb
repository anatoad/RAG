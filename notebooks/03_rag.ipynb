{
 "cells": [
  {
   "cell_type": "code",
   "execution_count": 1,
   "metadata": {},
   "outputs": [],
   "source": [
    "%load_ext autoreload\n",
    "%autoreload 2"
   ]
  },
  {
   "cell_type": "code",
   "execution_count": 2,
   "metadata": {},
   "outputs": [],
   "source": [
    "import sys\n",
    "import os\n",
    "if '../src' not in sys.path:\n",
    "    sys.path.append('../src')\n",
    "import utils\n",
    "import settings\n",
    "from retriever import Retriever\n",
    "from chatbot import Chatbot\n",
    "from IPython.display import Markdown, display"
   ]
  },
  {
   "cell_type": "code",
   "execution_count": 3,
   "metadata": {},
   "outputs": [],
   "source": [
    "logger = utils.get_logger(\"03_rag\")\n",
    "wrapper = utils.get_text_wrapper()"
   ]
  },
  {
   "cell_type": "markdown",
   "metadata": {},
   "source": [
    "### Document retriever\n",
    "\n",
    "The document retriever is responsible for finding relevant documents based on the user question. It initializes an Opensearch client, uses a `neural` query for semantic search.\n",
    "\n",
    "Use the `MODEL_ID` of the embedding model used at ingestion time to generate vector embeddings for the queries' text.\n",
    "\n",
    "[OpenSearch Python Client docs](https://opensearch-project.github.io/opensearch-py/api-ref/clients/opensearch_client.html)"
   ]
  },
  {
   "cell_type": "code",
   "execution_count": 4,
   "metadata": {},
   "outputs": [],
   "source": [
    "# INDEX_NAME = 'rag-knn-index'\n",
    "INDEX_NAME = 'unstructured-knn-index'\n",
    "retriever = Retriever(logger=logger, index=INDEX_NAME)"
   ]
  },
  {
   "cell_type": "code",
   "execution_count": 5,
   "metadata": {},
   "outputs": [
    {
     "name": "stdout",
     "output_type": "stream",
     "text": [
      "{\n",
      "    \"page_content\":\"Despre testul de limbă on-line POLITEHNICA București din data de 21 martie 2025 L Ce este cu acest\n",
      "test? Am nevoie de el? Dacă doresc să beneficiez de avantajele studiului într-una din limbile de largă circulație\n",
      "(engleză, franceză, germană) și în lista mea de opțiuni includ domenii la care școlarizarea se desfășoară într-una din\n",
      "acest limbi, trebuie, conform legii, să fac dovada că am cunoștințele lingvistice necesare. Dovada se face folosind\n",
      "oricare dintre variantele de mai jos:\",\n",
      "    \"metadata\":{\n",
      "        \"score\":0.07878805,\n",
      "        \"filename\":\"Test limba\n",
      "straina 21 03 detalii S1 2025.pdf\",\n",
      "        \"page_number\":1,\n",
      "\"id\":\"9cf23be3e6b1bcbd56f0cab3918a505c41688bb641a64cac3a8509bc9628e5d1-1\",\n",
      "        \"text\":\"Despre testul de limbă\n",
      "on-line POLITEHNICA București din data de 21 martie 2025 L Ce este cu acest test? Am nevoie de el? Dacă doresc să\n",
      "beneficiez de avantajele studiului într-una din limbile de largă circulație (engleză, franceză, germană) și în lista mea\n",
      "de opțiuni includ domenii la care școlarizarea se desfășoară într-una din acest limbi, trebuie, conform legii, să fac\n",
      "dovada că am cunoștințele lingvistice necesare. Dovada se face folosind oricare dintre variantele de mai jos:\",\n",
      "\"type\":\"pdf\",\n",
      "        \"table_id\":null,\n",
      "        \"table_text\":null,\n",
      "\"url\":\"https://admitere.pub.ro/docs/Test%20limba%20straina%2021%2003%20detalii%20S1%202025.pdf\"\n",
      "    }\n",
      "}\n",
      "{\n",
      "    \"page_content\":\"| Varianta | Cum dovedesc la înscriere | Este necesar să susțin testul de limbă POLITEHNICA\n",
      "Bucureşti? |\\n|:--|:--|:--|\\n| Liceu absolvit în respectiva limbă de predare | Dacă acest lucru nu apare evident din\n",
      "celelalte documente furnizate la înscriere, am grijă să încarc o copie a unui document eliberat de liceu şi din care să\n",
      "reiasă că am urmat un program de studii în respectiva limbă | NU |\\n| Certificat de competențe lingvistice pentru\n",
      "respectiva limbă de predare (minim B2); | Încarc o copie a certificatului | NU |\\n| Disciplină de tip limbă străină\n",
      "promovată în liceu cu media cel puțin 8,00 (pentru clasele a IX- a,a X-a, a XI-a). | Încarc o copie a unui document\n",
      "eliberat de liceul urmat din care reiese acest lucru | NU |\\n| Proba A, B sau C de la examenul de Bacalaureat; | Încare\n",
      "o copie completă a diplomei de Bacalaureat (inclusiv situaţia la examen) | NU |\\n| Aleg să susțin testul de limbă\n",
      "POLITEHNICA Bucureşti; | Nu încarc nimic la înscriere | DA |\\n| L La înscriere optez numai pentru domenii pentru care\n",
      "şcolarizarea se desfăşoară în româna | Nu încarc nimic la înscriere | NU |\",\n",
      "    \"metadata\":{\n",
      "\"score\":0.099855356,\n",
      "        \"filename\":\"Test limba straina 21 03 detalii S1 2025.pdf\",\n",
      "        \"page_number\":1,\n",
      "\"id\":\"9cf23be3e6b1bcbd56f0cab3918a505c41688bb641a64cac3a8509bc9628e5d1-2\",\n",
      "        \"text\":\"Varianta ; Cum dovedesc la\n",
      "înscriere ; Este necesar să susțin testul de limbă POLITEHNICA Bucureşti? ;  Liceu absolvit în respectiva limbă de\n",
      "predare ; Dacă acest lucru nu apare evident din celelalte documente furnizate la înscriere, am grijă să încarc o copie a\n",
      "unui document eliberat de liceu şi din care să reiasă că am urmat un program de studii în respectiva limbă ; NU ;\n",
      "Certificat de competențe lingvistice pentru respectiva limbă de predare (minim B2); ; Încarc o copie a certificatului ;\n",
      "NU ;  Disciplină de tip limbă străină promovată în liceu cu media cel puțin 8,00 (pentru clasele a IX- a,a X-a, a XI-a).\n",
      "; Încarc o copie a unui document eliberat de liceul urmat din care reiese acest lucru ; NU ;  Proba A, B sau C de la\n",
      "examenul de Bacalaureat; ; Încare o copie completă a diplomei de Bacalaureat (inclusiv situaţia la examen) ; NU ;  Aleg\n",
      "să susțin testul de limbă POLITEHNICA Bucureşti; ; Nu încarc nimic la înscriere ; DA ;  L La înscriere optez numai\n",
      "pentru domenii pentru care şcolarizarea se desfăşoară în româna ; Nu încarc nimic la înscriere ; NU ; \",\n",
      "\"type\":\"pdf\",\n",
      "        \"table_id\":\"23391cd202aac484f3f5056cfe84bc90ffb658699246019411ee988b982323f2\",\n",
      "\"table_text\":\"| Varianta | Cum dovedesc la înscriere | Este necesar să susțin testul de limbă POLITEHNICA Bucureşti?\n",
      "|\\n|:--|:--|:--|\\n| Liceu absolvit în respectiva limbă de predare | Dacă acest lucru nu apare evident din celelalte\n",
      "documente furnizate la înscriere, am grijă să încarc o copie a unui document eliberat de liceu şi din care să reiasă că\n",
      "am urmat un program de studii în respectiva limbă | NU |\\n| Certificat de competențe lingvistice pentru respectiva limbă\n",
      "de predare (minim B2); | Încarc o copie a certificatului | NU |\\n| Disciplină de tip limbă străină promovată în liceu cu\n",
      "media cel puțin 8,00 (pentru clasele a IX- a,a X-a, a XI-a). | Încarc o copie a unui document eliberat de liceul urmat\n",
      "din care reiese acest lucru | NU |\\n| Proba A, B sau C de la examenul de Bacalaureat; | Încare o copie completă a\n",
      "diplomei de Bacalaureat (inclusiv situaţia la examen) | NU |\\n| Aleg să susțin testul de limbă POLITEHNICA Bucureşti; |\n",
      "Nu încarc nimic la înscriere | DA |\\n| L La înscriere optez numai pentru domenii pentru care şcolarizarea se desfăşoară\n",
      "în româna | Nu încarc nimic la înscriere | NU |\",\n",
      "\"url\":\"https://admitere.pub.ro/docs/Test%20limba%20straina%2021%2003%20detalii%20S1%202025.pdf\"\n",
      "    }\n",
      "}\n"
     ]
    }
   ],
   "source": [
    "query_text = \"Ce documente sunt necesare pentru pentru inscrierea la un program de studii in limba engleza?\"\n",
    "\n",
    "docs = retriever.retrieve_documents(query_text=query_text)\n",
    "\n",
    "retriever.print_documents(docs)"
   ]
  },
  {
   "cell_type": "code",
   "execution_count": 6,
   "metadata": {},
   "outputs": [
    {
     "data": {
      "text/markdown": [
       "| Varianta | Cum dovedesc la înscriere | Este necesar să susțin testul de limbă POLITEHNICA Bucureşti? |\n",
       "|:--|:--|:--|\n",
       "| Liceu absolvit în respectiva limbă de predare | Dacă acest lucru nu apare evident din celelalte documente furnizate la înscriere, am grijă să încarc o copie a unui document eliberat de liceu şi din care să reiasă că am urmat un program de studii în respectiva limbă | NU |\n",
       "| Certificat de competențe lingvistice pentru respectiva limbă de predare (minim B2); | Încarc o copie a certificatului | NU |\n",
       "| Disciplină de tip limbă străină promovată în liceu cu media cel puțin 8,00 (pentru clasele a IX- a,a X-a, a XI-a). | Încarc o copie a unui document eliberat de liceul urmat din care reiese acest lucru | NU |\n",
       "| Proba A, B sau C de la examenul de Bacalaureat; | Încare o copie completă a diplomei de Bacalaureat (inclusiv situaţia la examen) | NU |\n",
       "| Aleg să susțin testul de limbă POLITEHNICA Bucureşti; | Nu încarc nimic la înscriere | DA |\n",
       "| L La înscriere optez numai pentru domenii pentru care şcolarizarea se desfăşoară în româna | Nu încarc nimic la înscriere | NU |"
      ],
      "text/plain": [
       "<IPython.core.display.Markdown object>"
      ]
     },
     "metadata": {},
     "output_type": "display_data"
    }
   ],
   "source": [
    "display(Markdown(docs[1].page_content))"
   ]
  },
  {
   "cell_type": "markdown",
   "metadata": {},
   "source": [
    "### RAG pipeline\n",
    "\n",
    "Initialize llm"
   ]
  },
  {
   "cell_type": "code",
   "execution_count": 7,
   "metadata": {},
   "outputs": [],
   "source": [
    "from langchain_openai import ChatOpenAI\n",
    "import getpass\n",
    "\n",
    "if not os.environ.get(\"OPENAI_API_KEY\"):\n",
    "    os.environ[\"OPENAI_API_KEY\"] = getpass.getpass(\"Enter API key for OpenAI: \")\n",
    "\n",
    "llm = ChatOpenAI(model=settings.OPENAI_MODEL, temperature=0, top_p=1)"
   ]
  },
  {
   "cell_type": "code",
   "execution_count": 8,
   "metadata": {},
   "outputs": [],
   "source": [
    "chatbot = Chatbot(retriever=retriever, llm=llm)"
   ]
  },
  {
   "cell_type": "code",
   "execution_count": 9,
   "metadata": {},
   "outputs": [
    {
     "name": "stdout",
     "output_type": "stream",
     "text": [
      "UTILIZATOR:\n",
      "Ce documente sunt necesare pentru pentru inscrierea la un program de studii in limba engleza?\n",
      "------------------------------------------------------------------------------------------------------------------------\n",
      "ASISTENT:\n",
      "Pentru înscrierea la un program de studii în limba engleză, este necesar să dovediți cunoștințele lingvistice prin unul\n",
      "dintre următoarele documente:\n",
      "\n",
      "1. **Liceu absolvit în respectiva limbă de predare**: Dacă acest lucru nu este evident\n",
      "din celelalte documente furnizate, trebuie să încărcați o copie a unui document eliberat de liceu care să ateste că ați\n",
      "urmat un program de studii în limba engleză.\n",
      "   \n",
      "2. **Certificat de competențe lingvistice pentru respectiva limbă de\n",
      "predare (minim B2)**: Trebuie să încărcați o copie a certificatului care atestă competențele lingvistice.\n",
      "\n",
      "3.\n",
      "**Disciplină de tip limbă străină promovată în liceu cu media cel puțin 8,00**: Este necesar să încărcați o copie a unui\n",
      "document eliberat de liceu care să demonstreze acest lucru (pentru clasele a IX-a, a X-a, a XI-a).\n",
      "\n",
      "4. **Proba A, B sau\n",
      "C de la examenul de Bacalaureat**: Trebuie să încărcați o copie completă a diplomei de Bacalaureat, inclusiv situația la\n",
      "examen.\n",
      "\n",
      "5. **Testul de limbă POLITEHNICA București**: Dacă alegeți să susțineți acest test, nu este necesar să\n",
      "încărcați nimic la înscriere.\n",
      "\n",
      "6. **Optarea pentru domenii în care școlarizarea se desfășoară în română**: În acest caz,\n",
      "nu este necesar să încărcați nimic la înscriere.\n",
      "\n",
      "Surse:\n",
      "-\n",
      "https://admitere.pub.ro/docs/Test%20limba%20straina%2021%2003%20detalii%20S1%202025.pdf: Test limbă străină 21 03\n",
      "detalii S1 2025.\n",
      "------------------------------------------------------------------------------------------------------------------------\n"
     ]
    }
   ],
   "source": [
    "chatbot.run(\"Ce documente sunt necesare pentru pentru inscrierea la un program de studii in limba engleza?\")\n",
    "\n",
    "# print(chatbot.formatted_prompt)\n",
    "chatbot._print_response()"
   ]
  },
  {
   "cell_type": "code",
   "execution_count": 10,
   "metadata": {},
   "outputs": [
    {
     "name": "stdout",
     "output_type": "stream",
     "text": [
      "UTILIZATOR:\n",
      "Cand are loc testul online de limba de la politehnica?\n",
      "------------------------------------------------------------------------------------------------------------------------\n",
      "ASISTENT:\n",
      "Testul online de limbă de la POLITEHNICA București va avea loc pe data de 21 martie 2025. Candidații trebuie să se\n",
      "înscrie pentru a putea susține testul, iar detaliile privind programul testului sunt următoarele: testul pentru limba\n",
      "engleză începe la ora 10:00, testul pentru limba germană la ora 12:00, iar testul pentru limba franceză la ora 14:00.\n",
      "Este important de menționat că testul devine disponibil pentru candidați la ora programată și că au la dispoziție 100 de\n",
      "minute pentru a răspunde la întrebări, testul închizându-se automat după 120 de minute de la ora de început programată,\n",
      "chiar dacă nu a fost finalizat.\n",
      "\n",
      "Surse:\n",
      "-\n",
      "https://admitere.pub.ro/docs/Test%20limba%20straina%2021%2003%20detalii%20S1%202025.pdf\n",
      "------------------------------------------------------------------------------------------------------------------------\n"
     ]
    }
   ],
   "source": [
    "chatbot.run(\"Cand are loc testul online de limba de la politehnica?\")\n",
    "# print(chatbot.formatted_prompt)\n",
    "chatbot._print_response()"
   ]
  },
  {
   "cell_type": "code",
   "execution_count": 11,
   "metadata": {},
   "outputs": [
    {
     "name": "stdout",
     "output_type": "stream",
     "text": [
      "UTILIZATOR:\n",
      "Cum ma inscriu la testul online de limba de la politehnica?\n",
      "------------------------------------------------------------------------------------------------------------------------\n",
      "ASISTENT:\n",
      "Pentru a te înscrie la testul online de limbă de la POLITEHNICA București, trebuie să urmezi următorii pași:\n",
      "\n",
      "1.\n",
      "**Înscriere**: Completează formularul de înscriere disponibil la adresa https://forms.office.com/e/xrMTzESmi7. Este\n",
      "important ca adresa de e-mail pe care o completezi în formular să fie aceeași cu cea pe care ai utilizat-o sau o vei\n",
      "utiliza în cadrul procesului de înscriere la concurs de pe pagina http://admitere.pub.ro/.\n",
      "\n",
      "2. **Termen limită**:\n",
      "Asigură-te că formularul este completat până cel târziu pe 19 martie 2025, ora 12:00. Toate câmpurile din formular sunt\n",
      "obligatorii, iar candidații care nu completează formularul la timp și în integralitate nu vor putea susține testul.\n",
      "\n",
      "3.\n",
      "**Obținerea datelor de acces**: După completarea formularului, vei primi un e-mail pe adresa de e-mail utilizată, care\n",
      "va conține informațiile necesare pentru susținerea testului online, inclusiv linkul de acces la platforma testului,\n",
      "precum și user și parolă.\n",
      "\n",
      "4. **Susținerea testului**: Accesează platforma folosind datele primite și susține testul la\n",
      "ora programată. Testul pentru limba engleză începe la ora 10:00, pentru limba germană la ora 12:00, iar pentru limba\n",
      "franceză la ora 14:00. Ai la dispoziție 100 de minute pentru a răspunde la întrebări, iar testul se va închide automat\n",
      "după 120 de minute de la ora de început programată.\n",
      "\n",
      "Surse:\n",
      "-\n",
      "https://admitere.pub.ro/docs/Test%20limba%20straina%2021%2003%20detalii%20S1%202025.pdf\n",
      "------------------------------------------------------------------------------------------------------------------------\n"
     ]
    }
   ],
   "source": [
    "chatbot.run(\"Cum ma inscriu la testul online de limba de la politehnica?\")\n",
    "chatbot._print_response()"
   ]
  },
  {
   "cell_type": "code",
   "execution_count": null,
   "metadata": {},
   "outputs": [],
   "source": []
  }
 ],
 "metadata": {
  "kernelspec": {
   "display_name": "env",
   "language": "python",
   "name": "python3"
  },
  "language_info": {
   "codemirror_mode": {
    "name": "ipython",
    "version": 3
   },
   "file_extension": ".py",
   "mimetype": "text/x-python",
   "name": "python",
   "nbconvert_exporter": "python",
   "pygments_lexer": "ipython3",
   "version": "3.12.9"
  }
 },
 "nbformat": 4,
 "nbformat_minor": 2
}
