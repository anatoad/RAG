{
 "cells": [
  {
   "cell_type": "code",
   "execution_count": 29,
   "metadata": {},
   "outputs": [
    {
     "name": "stdout",
     "output_type": "stream",
     "text": [
      "The autoreload extension is already loaded. To reload it, use:\n",
      "  %reload_ext autoreload\n"
     ]
    }
   ],
   "source": [
    "%load_ext autoreload\n",
    "%autoreload 2"
   ]
  },
  {
   "cell_type": "code",
   "execution_count": 30,
   "metadata": {},
   "outputs": [],
   "source": [
    "import sys\n",
    "import os\n",
    "if '../src' not in sys.path:\n",
    "    sys.path.append('../src')\n",
    "import utils\n",
    "import settings\n",
    "from retriever import Retriever\n",
    "from chatbot import Chatbot\n",
    "from IPython.display import Markdown, display\n",
    "from langchain_openai import ChatOpenAI"
   ]
  },
  {
   "cell_type": "code",
   "execution_count": 31,
   "metadata": {},
   "outputs": [],
   "source": [
    "logger = utils.get_logger(\"03_rag\")\n",
    "wrapper = utils.get_text_wrapper()"
   ]
  },
  {
   "cell_type": "markdown",
   "metadata": {},
   "source": [
    "### Document retriever\n",
    "\n",
    "The document retriever is responsible for finding relevant documents based on the user question. It initializes an Opensearch client, uses a `neural` query for semantic search.\n",
    "\n",
    "Use the `MODEL_ID` of the embedding model used at ingestion time to generate vector embeddings for the queries' text.\n",
    "\n",
    "[OpenSearch Python Client docs](https://opensearch-project.github.io/opensearch-py/api-ref/clients/opensearch_client.html)"
   ]
  },
  {
   "cell_type": "code",
   "execution_count": 32,
   "metadata": {},
   "outputs": [],
   "source": [
    "# INDEX_NAME = 'rag-knn-index'\n",
    "INDEX_NAME = 'unstructured-knn-index'\n",
    "retriever = Retriever(logger=logger, index=INDEX_NAME)"
   ]
  },
  {
   "cell_type": "code",
   "execution_count": 33,
   "metadata": {},
   "outputs": [
    {
     "name": "stdout",
     "output_type": "stream",
     "text": [
      "{\n",
      "    \"page_content\":\"Despre testul de limbă on-line POLITEHNICA București din data de 21 martie 2025 L Ce este cu acest test? Am nevoie de el? Dacă doresc să\n",
      "beneficiez de avantajele studiului într-una din limbile de largă circulație (engleză, franceză, germană) și în lista mea de opțiuni includ domenii la care\n",
      "școlarizarea se desfășoară într-una din acest limbi, trebuie, conform legii, să fac dovada că am cunoștințele lingvistice necesare. Dovada se face folosind\n",
      "oricare dintre variantele de mai jos:\",\n",
      "    \"metadata\":{\n",
      "        \"score\":0.07878805,\n",
      "        \"filename\":\"Test limba straina 21 03 detalii S1 2025.pdf\",\n",
      "\"page_number\":1,\n",
      "        \"id\":\"9cf23be3e6b1bcbd56f0cab3918a505c41688bb641a64cac3a8509bc9628e5d1-1\",\n",
      "        \"text\":\"Despre testul de limbă on-line POLITEHNICA\n",
      "București din data de 21 martie 2025 L Ce este cu acest test? Am nevoie de el? Dacă doresc să beneficiez de avantajele studiului într-una din limbile de largă\n",
      "circulație (engleză, franceză, germană) și în lista mea de opțiuni includ domenii la care școlarizarea se desfășoară într-una din acest limbi, trebuie, conform\n",
      "legii, să fac dovada că am cunoștințele lingvistice necesare. Dovada se face folosind oricare dintre variantele de mai jos:\",\n",
      "        \"type\":\"pdf\",\n",
      "\"table_id\":null,\n",
      "        \"table_text\":null,\n",
      "        \"url\":\"https://admitere.pub.ro/docs/Test%20limba%20straina%2021%2003%20detalii%20S1%202025.pdf\"\n",
      "    }\n",
      "}\n",
      "{\n",
      "    \"page_content\":\"| Varianta | Cum dovedesc la înscriere | Este necesar să susțin testul de limbă POLITEHNICA Bucureşti? |\\n|:--|:--|:--|\\n| Liceu absolvit\n",
      "în respectiva limbă de predare | Dacă acest lucru nu apare evident din celelalte documente furnizate la înscriere, am grijă să încarc o copie a unui document\n",
      "eliberat de liceu şi din care să reiasă că am urmat un program de studii în respectiva limbă | NU |\\n| Certificat de competențe lingvistice pentru respectiva\n",
      "limbă de predare (minim B2); | Încarc o copie a certificatului | NU |\\n| Disciplină de tip limbă străină promovată în liceu cu media cel puțin 8,00 (pentru\n",
      "clasele a IX- a,a X-a, a XI-a). | Încarc o copie a unui document eliberat de liceul urmat din care reiese acest lucru | NU |\\n| Proba A, B sau C de la examenul\n",
      "de Bacalaureat; | Încare o copie completă a diplomei de Bacalaureat (inclusiv situaţia la examen) | NU |\\n| Aleg să susțin testul de limbă POLITEHNICA\n",
      "Bucureşti; | Nu încarc nimic la înscriere | DA |\\n| L La înscriere optez numai pentru domenii pentru care şcolarizarea se desfăşoară în româna | Nu încarc nimic\n",
      "la înscriere | NU |\",\n",
      "    \"metadata\":{\n",
      "        \"score\":0.099855356,\n",
      "        \"filename\":\"Test limba straina 21 03 detalii S1 2025.pdf\",\n",
      "        \"page_number\":1,\n",
      "\"id\":\"9cf23be3e6b1bcbd56f0cab3918a505c41688bb641a64cac3a8509bc9628e5d1-2\",\n",
      "        \"text\":\"Varianta ; Cum dovedesc la înscriere ; Este necesar să susțin testul\n",
      "de limbă POLITEHNICA Bucureşti? ;  Liceu absolvit în respectiva limbă de predare ; Dacă acest lucru nu apare evident din celelalte documente furnizate la\n",
      "înscriere, am grijă să încarc o copie a unui document eliberat de liceu şi din care să reiasă că am urmat un program de studii în respectiva limbă ; NU ;\n",
      "Certificat de competențe lingvistice pentru respectiva limbă de predare (minim B2); ; Încarc o copie a certificatului ; NU ;  Disciplină de tip limbă străină\n",
      "promovată în liceu cu media cel puțin 8,00 (pentru clasele a IX- a,a X-a, a XI-a). ; Încarc o copie a unui document eliberat de liceul urmat din care reiese\n",
      "acest lucru ; NU ;  Proba A, B sau C de la examenul de Bacalaureat; ; Încare o copie completă a diplomei de Bacalaureat (inclusiv situaţia la examen) ; NU ;\n",
      "Aleg să susțin testul de limbă POLITEHNICA Bucureşti; ; Nu încarc nimic la înscriere ; DA ;  L La înscriere optez numai pentru domenii pentru care şcolarizarea\n",
      "se desfăşoară în româna ; Nu încarc nimic la înscriere ; NU ; \",\n",
      "        \"type\":\"pdf\",\n",
      "\"table_id\":\"23391cd202aac484f3f5056cfe84bc90ffb658699246019411ee988b982323f2\",\n",
      "        \"table_text\":\"| Varianta | Cum dovedesc la înscriere | Este necesar să\n",
      "susțin testul de limbă POLITEHNICA Bucureşti? |\\n|:--|:--|:--|\\n| Liceu absolvit în respectiva limbă de predare | Dacă acest lucru nu apare evident din\n",
      "celelalte documente furnizate la înscriere, am grijă să încarc o copie a unui document eliberat de liceu şi din care să reiasă că am urmat un program de studii\n",
      "în respectiva limbă | NU |\\n| Certificat de competențe lingvistice pentru respectiva limbă de predare (minim B2); | Încarc o copie a certificatului | NU |\\n|\n",
      "Disciplină de tip limbă străină promovată în liceu cu media cel puțin 8,00 (pentru clasele a IX- a,a X-a, a XI-a). | Încarc o copie a unui document eliberat de\n",
      "liceul urmat din care reiese acest lucru | NU |\\n| Proba A, B sau C de la examenul de Bacalaureat; | Încare o copie completă a diplomei de Bacalaureat (inclusiv\n",
      "situaţia la examen) | NU |\\n| Aleg să susțin testul de limbă POLITEHNICA Bucureşti; | Nu încarc nimic la înscriere | DA |\\n| L La înscriere optez numai pentru\n",
      "domenii pentru care şcolarizarea se desfăşoară în româna | Nu încarc nimic la înscriere | NU |\",\n",
      "\"url\":\"https://admitere.pub.ro/docs/Test%20limba%20straina%2021%2003%20detalii%20S1%202025.pdf\"\n",
      "    }\n",
      "}\n"
     ]
    }
   ],
   "source": [
    "query_text = \"Ce documente sunt necesare pentru pentru inscrierea la un program de studii in limba engleza?\"\n",
    "\n",
    "docs = retriever.retrieve_documents(query_text=query_text)\n",
    "\n",
    "retriever.print_documents(docs)"
   ]
  },
  {
   "cell_type": "code",
   "execution_count": 34,
   "metadata": {},
   "outputs": [
    {
     "data": {
      "text/markdown": [
       "| Varianta | Cum dovedesc la înscriere | Este necesar să susțin testul de limbă POLITEHNICA Bucureşti? |\n",
       "|:--|:--|:--|\n",
       "| Liceu absolvit în respectiva limbă de predare | Dacă acest lucru nu apare evident din celelalte documente furnizate la înscriere, am grijă să încarc o copie a unui document eliberat de liceu şi din care să reiasă că am urmat un program de studii în respectiva limbă | NU |\n",
       "| Certificat de competențe lingvistice pentru respectiva limbă de predare (minim B2); | Încarc o copie a certificatului | NU |\n",
       "| Disciplină de tip limbă străină promovată în liceu cu media cel puțin 8,00 (pentru clasele a IX- a,a X-a, a XI-a). | Încarc o copie a unui document eliberat de liceul urmat din care reiese acest lucru | NU |\n",
       "| Proba A, B sau C de la examenul de Bacalaureat; | Încare o copie completă a diplomei de Bacalaureat (inclusiv situaţia la examen) | NU |\n",
       "| Aleg să susțin testul de limbă POLITEHNICA Bucureşti; | Nu încarc nimic la înscriere | DA |\n",
       "| L La înscriere optez numai pentru domenii pentru care şcolarizarea se desfăşoară în româna | Nu încarc nimic la înscriere | NU |"
      ],
      "text/plain": [
       "<IPython.core.display.Markdown object>"
      ]
     },
     "metadata": {},
     "output_type": "display_data"
    }
   ],
   "source": [
    "display(Markdown(docs[1].page_content))"
   ]
  },
  {
   "cell_type": "markdown",
   "metadata": {},
   "source": [
    "### RAG pipeline\n",
    "\n",
    "Initialize llm"
   ]
  },
  {
   "cell_type": "code",
   "execution_count": 35,
   "metadata": {},
   "outputs": [],
   "source": [
    "from openai import OpenAI\n",
    "from dotenv import load_dotenv\n",
    "load_dotenv(dotenv_path=\"../.env\", override=True)\n",
    "\n",
    "llm = ChatOpenAI(model=settings.OPENAI_MODEL, temperature=0, top_p=1)"
   ]
  },
  {
   "cell_type": "code",
   "execution_count": 36,
   "metadata": {},
   "outputs": [],
   "source": [
    "chatbot = Chatbot(retriever=retriever, llm=llm)"
   ]
  },
  {
   "cell_type": "code",
   "execution_count": 37,
   "metadata": {},
   "outputs": [
    {
     "name": "stdout",
     "output_type": "stream",
     "text": [
      "Ce documente sunt necesare pentru pentru inscrierea la un program de studii in limba engleza?\n",
      "UTILIZATOR:\n",
      "Ce documente sunt necesare pentru pentru inscrierea la un program de studii in limba engleza?\n",
      "----------------------------------------------------------------------------------------------------------------------------------------------------------------\n",
      "ASISTENT:\n",
      "Pentru înscrierea la un program de studii în limba engleză, este necesar să dovediți cunoștințele lingvistice prin una dintre următoarele variante:\n",
      "\n",
      "1. **Liceu\n",
      "absolvit în respectiva limbă de predare**: Dacă acest lucru nu este evident din celelalte documente furnizate la înscriere, trebuie să încărcați o copie a unui\n",
      "document eliberat de liceu care să ateste că ați urmat un program de studii în limba engleză.\n",
      "   \n",
      "2. **Certificat de competențe lingvistice pentru respectiva\n",
      "limbă de predare (minim B2)**: Trebuie să încărcați o copie a certificatului care atestă competențele lingvistice.\n",
      "\n",
      "3. **Disciplină de tip limbă străină\n",
      "promovată în liceu cu media cel puțin 8,00 (pentru clasele a IX-a, a X-a, a XI-a)**: Este necesar să încărcați o copie a unui document eliberat de liceul urmat\n",
      "care să demonstreze acest lucru.\n",
      "\n",
      "4. **Proba A, B sau C de la examenul de Bacalaureat**: Trebuie să încărcați o copie completă a diplomei de Bacalaureat,\n",
      "inclusiv situația la examen.\n",
      "\n",
      "5. **Alegerea de a susține testul de limbă POLITEHNICA București**: În acest caz, nu este necesar să încărcați nimic la înscriere.\n",
      "6. **Optarea pentru domenii în care școlarizarea se desfășoară în limba română**: Nu este necesar să încărcați nimic la înscriere.\n",
      "\n",
      "Este important de menționat\n",
      "că, în funcție de opțiunea aleasă, nu toate documentele sunt necesare, iar unele variante nu impun susținerea testului de limbă. \n",
      "\n",
      "Surse:\n",
      "-\n",
      "https://admitere.pub.ro/docs/Test%20limba%20straina%2021%2003%20detalii%20S1%202025.pdf, pagina: 1\n",
      "----------------------------------------------------------------------------------------------------------------------------------------------------------------\n"
     ]
    }
   ],
   "source": [
    "chatbot.run(\"Ce documente sunt necesare pentru pentru inscrierea la un program de studii in limba engleza?\")\n",
    "print(chatbot.refined_question)\n",
    "# print(chatbot.formatted_prompt)\n",
    "chatbot._print_response()"
   ]
  },
  {
   "cell_type": "code",
   "execution_count": 38,
   "metadata": {},
   "outputs": [
    {
     "name": "stdout",
     "output_type": "stream",
     "text": [
      "Refined question: Când se va desfășura testul online de limbă străină organizat de Universitatea Politehnica din București?\n",
      "UTILIZATOR:\n",
      "Cand are loc testul online de limba de la politehnica?\n",
      "----------------------------------------------------------------------------------------------------------------------------------------------------------------\n",
      "ASISTENT:\n",
      "Testul online de limbă străină organizat de Universitatea Politehnica din București se va desfășura pe data de 21 martie 2025. \n",
      "\n",
      "Surse:\n",
      "- Sursa:\n",
      "https://admitere.pub.ro/docs/Test%20limba%20straina%2021%2003%20detalii%20S1%202025.pdf, pagina: 1\n",
      "----------------------------------------------------------------------------------------------------------------------------------------------------------------\n"
     ]
    }
   ],
   "source": [
    "chatbot.run(\"Cand are loc testul online de limba de la politehnica?\")\n",
    "print(f\"Refined question: {chatbot.refined_question}\")\n",
    "# print(chatbot.formatted_prompt)\n",
    "chatbot._print_response()"
   ]
  },
  {
   "cell_type": "code",
   "execution_count": 39,
   "metadata": {},
   "outputs": [],
   "source": [
    "# chatbot.run(\"Cum ma inscriu la testul online de limba de la politehnica?\")\n",
    "# chatbot._print_response()"
   ]
  },
  {
   "cell_type": "code",
   "execution_count": 40,
   "metadata": {},
   "outputs": [
    {
     "name": "stdout",
     "output_type": "stream",
     "text": [
      "Refined question: Cum pot să mă înscriu la testul online de limbă străină organizat de Universitatea Politehnica din București?\n",
      "UTILIZATOR:\n",
      "Cum ma inscriu la test?\n",
      "----------------------------------------------------------------------------------------------------------------------------------------------------------------\n",
      "ASISTENT:\n",
      "Pentru a vă înscrie la testul online de limbă străină organizat de Universitatea Politehnica din București, trebuie să urmați următorii pași:\n",
      "\n",
      "1. **Înscriere**:\n",
      "Completați formularul de înscriere disponibil la adresa https://forms.office.com/e/xrMTzESmi7. Este important ca adresa de e-mail pe care o completați în\n",
      "formular să fie aceeași cu cea utilizată în procesul de înscriere la concurs, pe pagina http://admitere.pub.ro/. \n",
      "\n",
      "2. **Termen limită**: Asigurați-vă că\n",
      "formularul este completat până cel târziu pe 19 martie 2025, ora 12:00. Toate câmpurile din formular sunt obligatorii, iar candidații care nu respectă acest\n",
      "termen nu vor putea susține testul online.\n",
      "\n",
      "3. **Obținerea datelor de acces**: După completarea formularului, veți primi un e-mail pe adresa de e-mail\n",
      "utilizată, care va conține informațiile necesare pentru accesarea testului online, inclusiv linkul de acces, user și parolă. Acest e-mail va fi trimis pe 19\n",
      "martie 2025, după ora 14:00.\n",
      "\n",
      "Surse:\n",
      "- https://admitere.pub.ro/docs/Test%20limba%20straina%2021%2003%20detalii%20S1%202025.pdf: pagina 1\n",
      "----------------------------------------------------------------------------------------------------------------------------------------------------------------\n"
     ]
    }
   ],
   "source": [
    "chatbot.run(\"Cum ma inscriu la test?\")\n",
    "print(f\"Refined question: {chatbot.refined_question}\")\n",
    "chatbot._print_response()"
   ]
  },
  {
   "cell_type": "code",
   "execution_count": null,
   "metadata": {},
   "outputs": [],
   "source": []
  }
 ],
 "metadata": {
  "kernelspec": {
   "display_name": "env",
   "language": "python",
   "name": "python3"
  },
  "language_info": {
   "codemirror_mode": {
    "name": "ipython",
    "version": 3
   },
   "file_extension": ".py",
   "mimetype": "text/x-python",
   "name": "python",
   "nbconvert_exporter": "python",
   "pygments_lexer": "ipython3",
   "version": "3.12.9"
  }
 },
 "nbformat": 4,
 "nbformat_minor": 2
}
