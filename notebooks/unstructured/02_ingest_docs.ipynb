{
 "cells": [
  {
   "cell_type": "markdown",
   "metadata": {},
   "source": [
    "### OpenSearch document ingestion pipeline"
   ]
  },
  {
   "cell_type": "code",
   "execution_count": 12,
   "metadata": {},
   "outputs": [
    {
     "name": "stdout",
     "output_type": "stream",
     "text": [
      "The autoreload extension is already loaded. To reload it, use:\n",
      "  %reload_ext autoreload\n"
     ]
    }
   ],
   "source": [
    "%load_ext autoreload\n",
    "%autoreload 2"
   ]
  },
  {
   "cell_type": "code",
   "execution_count": 13,
   "metadata": {},
   "outputs": [],
   "source": [
    "import sys\n",
    "import json\n",
    "if \"../../src\" not in sys.path:\n",
    "    sys.path.append(\"../../src\")\n",
    "import utils\n",
    "import settings\n",
    "from opensearch_client import OpenSearchClient\n",
    "from pdf_processor import PdfProcessor\n",
    "\n",
    "wrapper = utils.get_text_wrapper()"
   ]
  },
  {
   "cell_type": "code",
   "execution_count": 14,
   "metadata": {},
   "outputs": [],
   "source": [
    "INDEX_NAME = \"unstructured-knn-index\""
   ]
  },
  {
   "cell_type": "markdown",
   "metadata": {},
   "source": [
    "Get some pdfs"
   ]
  },
  {
   "cell_type": "code",
   "execution_count": 15,
   "metadata": {},
   "outputs": [],
   "source": [
    "pdfs = [\n",
    "    {\n",
    "        \"file_path\": settings.DATA_DIR / \"admitere\" / \"Test limba straina 21 03 detalii S1 2025.pdf\",\n",
    "        \"url\": \"https://admitere.pub.ro/docs/Test%20limba%20straina%2021%2003%20detalii%20S1%202025.pdf\",\n",
    "        \"output_dir\": settings.DATA_DIR / \"content\" / \"admitere\",\n",
    "    }\n",
    "]\n",
    "\n",
    "pdf = pdfs[0]\n",
    "file_path, url = pdf[\"file_path\"], pdf[\"url\"]"
   ]
  },
  {
   "cell_type": "markdown",
   "metadata": {},
   "source": [
    "Process pdf"
   ]
  },
  {
   "cell_type": "code",
   "execution_count": 16,
   "metadata": {},
   "outputs": [],
   "source": [
    "pdfProcessor = PdfProcessor(file_path, url=url)\n",
    "pdfProcessor.process()"
   ]
  },
  {
   "cell_type": "code",
   "execution_count": 17,
   "metadata": {},
   "outputs": [
    {
     "name": "stdout",
     "output_type": "stream",
     "text": [
      "{\n",
      "    \"id\": \"9cf23be3e6b1bcbd56f0cab3918a505c41688bb641a64cac3a8509bc9628e5d1-1\",\n",
      "    \"text\": \"Despre testul de limbă\n",
      "on-line POLITEHNICA București din data de 21 martie 2025 L Ce este cu acest test? Am nevoie de el? Dacă doresc să\n",
      "beneficiez de avantajele studiului într-una din limbile de largă circulație (engleză, franceză, germană) și în lista mea\n",
      "de opțiuni includ domenii la care școlarizarea se desfășoară într-una din acest limbi, trebuie, conform legii, să fac\n",
      "dovada că am cunoștințele lingvistice necesare. Dovada se face folosind oricare dintre variantele de mai jos:\",\n",
      "\"url\": \"https://admitere.pub.ro/docs/Test%20limba%20straina%2021%2003%20detalii%20S1%202025.pdf\",\n",
      "    \"type\": \"pdf\",\n",
      "\"filename\": \"Test limba straina 21 03 detalii S1 2025.pdf\",\n",
      "    \"page_number\": 1,\n",
      "    \"table_id\": null,\n",
      "\"table_text\": null\n",
      "}\n",
      "------------------------------------------------------------------------------------------------------------------------\n",
      "{\n",
      "    \"id\": \"9cf23be3e6b1bcbd56f0cab3918a505c41688bb641a64cac3a8509bc9628e5d1-2\",\n",
      "    \"text\": \"Varianta ; Cum dovedesc\n",
      "la înscriere ; Este necesar să susțin testul de limbă POLITEHNICA Bucureşti? ;  Liceu absolvit în respectiva limbă de\n",
      "predare ; Dacă acest lucru nu apare evident din celelalte documente furnizate la înscriere, am grijă să încarc o copie a\n",
      "unui document eliberat de liceu şi din care să reiasă că am urmat un program de studii în respectiva limbă ; NU ;\n",
      "Certificat de competențe lingvistice pentru respectiva limbă de predare (minim B2); ; Încarc o copie a certificatului ;\n",
      "NU ;  Disciplină de tip limbă străină promovată în liceu cu media cel puțin 8,00 (pentru clasele a IX- a,a X-a, a XI-a).\n",
      "; Încarc o copie a unui document eliberat de liceul urmat din care reiese acest lucru ; NU ;  Proba A, B sau C de la\n",
      "examenul de Bacalaureat; ; Încare o copie completă a diplomei de Bacalaureat (inclusiv situaţia la examen) ; NU ;  Aleg\n",
      "să susțin testul de limbă POLITEHNICA Bucureşti; ; Nu încarc nimic la înscriere ; DA ;  L La înscriere optez numai\n",
      "pentru domenii pentru care şcolarizarea se desfăşoară în româna ; Nu încarc nimic la înscriere ; NU ; \",\n",
      "    \"url\":\n",
      "\"https://admitere.pub.ro/docs/Test%20limba%20straina%2021%2003%20detalii%20S1%202025.pdf\",\n",
      "    \"type\": \"pdf\",\n",
      "\"filename\": \"Test limba straina 21 03 detalii S1 2025.pdf\",\n",
      "    \"page_number\": 1,\n",
      "    \"table_id\":\n",
      "\"23391cd202aac484f3f5056cfe84bc90ffb658699246019411ee988b982323f2\",\n",
      "    \"table_text\": \"| Varianta | Cum dovedesc la\n",
      "înscriere | Este necesar să susțin testul de limbă POLITEHNICA Bucureşti? |\\n|:--|:--|:--|\\n| Liceu absolvit în\n",
      "respectiva limbă de predare | Dacă acest lucru nu apare evident din celelalte documente furnizate la înscriere, am grijă\n",
      "să încarc o copie a unui document eliberat de liceu şi din care să reiasă că am urmat un program de studii în respectiva\n",
      "limbă | NU |\\n| Certificat de competențe lingvistice pentru respectiva limbă de predare (minim B2); | Încarc o copie a\n",
      "certificatului | NU |\\n| Disciplină de tip limbă străină promovată în liceu cu media cel puțin 8,00 (pentru clasele a\n",
      "IX- a,a X-a, a XI-a). | Încarc o copie a unui document eliberat de liceul urmat din care reiese acest lucru | NU |\\n|\n",
      "Proba A, B sau C de la examenul de Bacalaureat; | Încare o copie completă a diplomei de Bacalaureat (inclusiv situaţia\n",
      "la examen) | NU |\\n| Aleg să susțin testul de limbă POLITEHNICA Bucureşti; | Nu încarc nimic la înscriere | DA |\\n| L La\n",
      "înscriere optez numai pentru domenii pentru care şcolarizarea se desfăşoară în româna | Nu încarc nimic la înscriere |\n",
      "NU |\"\n",
      "}\n",
      "------------------------------------------------------------------------------------------------------------------------\n",
      "{\n",
      "    \"id\": \"9cf23be3e6b1bcbd56f0cab3918a505c41688bb641a64cac3a8509bc9628e5d1-3\",\n",
      "    \"text\": \"româna II. Am ales să\n",
      "susțin testul, ce trebuie să fac? 1. Mă înscriu (anunț cine sunt și pentru ce limbă susțin testul). 2. Obțin accesul la\n",
      "platforma on-line de test. 3. Susțin testul. 4. Primesc rezultatul. III.Etapele testului on-line POLITEHNICA București A\n",
      "– Înscriere Candidații trebuie să se înscrie pentru a putea susține testul on-line POLITEHNICA București din data de 21\n",
      "martie 2025 prin completarea formularului de la adresa https://forms.office.com/e/xrMTzESmi7 Adresa de e-mail completată\n",
      "in formular trebuie să fie aceeași adresa de e-mail pe care candidatul a utilizat-o sau o va utiliza în cadrul\n",
      "procesului de înscriere la concurs de pe pagina http://admitere.pub.ro/. Formularul trebuie completat până cel târziu pe\n",
      "19 martie 2025 ora 12:00. Toate câmpurile din formular sunt obligatorii! Candidații care nu au completat la timp si în\n",
      "integralitate formularul nu vor putea susține testul on-line POLITEHNICA București. B – Obținere date acces În urma\n",
      "completării formularului, candidatul va primi pe adresa de e-mail pe care a utilizat- o un e-mail care va conține\n",
      "următoarele informații necesare pentru susținerea testului on-line: 1. Link accesare platformă test de limbă on-line; 2.\n",
      "User și parolă necesare pentru accesarea testului propriu-zis. E- mailul se va trimite pe data de 19 martie 2025, după\n",
      "ora 14:00 C – Susținerea testului de limbă Candidatul accesează platforma în care va susține testul on-line POLITEHNICA\n",
      "București folosind datele de la punctul anterior. Testul pentru limba engleză începe la ora 10:00. Testul pentru limba\n",
      "germană începe la ora 12:00. Testul pentru limba franceză începe la ora 14:00. Testul devine disponibil pentru dvs. la\n",
      "ora programată mai sus. Pentru pornirea testului, formularea răspunsurilor, precum și pentru încărcarea acestora, aveți\n",
      "la dispoziție cel mult 100 min (contorizate din momentul în care dvs. ați pornit testul). Testul se va închide automat\n",
      "după 120 min de la ora de început programată, chiar daca nu l-ați finalizat între timp. D – Primire rezultate\",\n",
      "\"url\": \"https://admitere.pub.ro/docs/Test%20limba%20straina%2021%2003%20detalii%20S1%202025.pdf\",\n",
      "    \"type\": \"pdf\",\n",
      "\"filename\": \"Test limba straina 21 03 detalii S1 2025.pdf\",\n",
      "    \"page_number\": 1,\n",
      "    \"table_id\": null,\n",
      "\"table_text\": null\n",
      "}\n",
      "------------------------------------------------------------------------------------------------------------------------\n",
      "{\n",
      "    \"id\": \"9cf23be3e6b1bcbd56f0cab3918a505c41688bb641a64cac3a8509bc9628e5d1-4\",\n",
      "    \"text\": \"În urma susținerii\n",
      "testului on-line POLITEHNICA București candidatul va primi ca răspuns un e-mail de la adresa test.limbastraina@upb.ro în\n",
      "care va fi declarat Promovat sau Nepromovat.\",\n",
      "    \"url\":\n",
      "\"https://admitere.pub.ro/docs/Test%20limba%20straina%2021%2003%20detalii%20S1%202025.pdf\",\n",
      "    \"type\": \"pdf\",\n",
      "\"filename\": \"Test limba straina 21 03 detalii S1 2025.pdf\",\n",
      "    \"page_number\": 2,\n",
      "    \"table_id\": null,\n",
      "\"table_text\": null\n",
      "}\n",
      "------------------------------------------------------------------------------------------------------------------------\n"
     ]
    }
   ],
   "source": [
    "for chunk in pdfProcessor.chunks:\n",
    "    print(wrapper.fill(json.dumps(chunk, indent=4, ensure_ascii=False)))\n",
    "    print(wrapper.fill(\"-\" * wrapper.width))"
   ]
  },
  {
   "cell_type": "markdown",
   "metadata": {},
   "source": [
    "Ingest data into OpenSearch"
   ]
  },
  {
   "cell_type": "code",
   "execution_count": 18,
   "metadata": {},
   "outputs": [],
   "source": [
    "data = pdfProcessor.format_data(index_name=INDEX_NAME)"
   ]
  },
  {
   "cell_type": "code",
   "execution_count": 19,
   "metadata": {},
   "outputs": [],
   "source": [
    "client = OpenSearchClient()"
   ]
  },
  {
   "cell_type": "code",
   "execution_count": 20,
   "metadata": {},
   "outputs": [],
   "source": [
    "ret = client.ingest_data_bulk(data)"
   ]
  },
  {
   "cell_type": "code",
   "execution_count": 21,
   "metadata": {},
   "outputs": [
    {
     "name": "stdout",
     "output_type": "stream",
     "text": [
      "[\n",
      "    true,\n",
      "    {\n",
      "        \"index\": {\n",
      "            \"_index\": \"unstructured-knn-index\",\n",
      "            \"_id\": \"9cf23be3e6b1bcbd56f0cab3918a505c41688bb641a64cac3a8509bc9628e5d1-1\",\n",
      "            \"_version\": 11,\n",
      "            \"result\": \"updated\",\n",
      "            \"_shards\": {\n",
      "                \"total\": 2,\n",
      "                \"successful\": 2,\n",
      "                \"failed\": 0\n",
      "            },\n",
      "            \"_seq_no\": 32,\n",
      "            \"_primary_term\": 3,\n",
      "            \"status\": 200\n",
      "        }\n",
      "    }\n",
      "]\n",
      "[\n",
      "    true,\n",
      "    {\n",
      "        \"index\": {\n",
      "            \"_index\": \"unstructured-knn-index\",\n",
      "            \"_id\": \"9cf23be3e6b1bcbd56f0cab3918a505c41688bb641a64cac3a8509bc9628e5d1-2\",\n",
      "            \"_version\": 9,\n",
      "            \"result\": \"updated\",\n",
      "            \"_shards\": {\n",
      "                \"total\": 2,\n",
      "                \"successful\": 2,\n",
      "                \"failed\": 0\n",
      "            },\n",
      "            \"_seq_no\": 33,\n",
      "            \"_primary_term\": 3,\n",
      "            \"status\": 200\n",
      "        }\n",
      "    }\n",
      "]\n",
      "[\n",
      "    true,\n",
      "    {\n",
      "        \"index\": {\n",
      "            \"_index\": \"unstructured-knn-index\",\n",
      "            \"_id\": \"9cf23be3e6b1bcbd56f0cab3918a505c41688bb641a64cac3a8509bc9628e5d1-3\",\n",
      "            \"_version\": 9,\n",
      "            \"result\": \"updated\",\n",
      "            \"_shards\": {\n",
      "                \"total\": 2,\n",
      "                \"successful\": 2,\n",
      "                \"failed\": 0\n",
      "            },\n",
      "            \"_seq_no\": 34,\n",
      "            \"_primary_term\": 3,\n",
      "            \"status\": 200\n",
      "        }\n",
      "    }\n",
      "]\n",
      "[\n",
      "    true,\n",
      "    {\n",
      "        \"index\": {\n",
      "            \"_index\": \"unstructured-knn-index\",\n",
      "            \"_id\": \"9cf23be3e6b1bcbd56f0cab3918a505c41688bb641a64cac3a8509bc9628e5d1-4\",\n",
      "            \"_version\": 7,\n",
      "            \"result\": \"updated\",\n",
      "            \"_shards\": {\n",
      "                \"total\": 2,\n",
      "                \"successful\": 2,\n",
      "                \"failed\": 0\n",
      "            },\n",
      "            \"_seq_no\": 35,\n",
      "            \"_primary_term\": 3,\n",
      "            \"status\": 200\n",
      "        }\n",
      "    }\n",
      "]\n"
     ]
    }
   ],
   "source": [
    "for obj in ret:\n",
    "    print(json.dumps(obj, indent=4))"
   ]
  },
  {
   "cell_type": "code",
   "execution_count": null,
   "metadata": {},
   "outputs": [],
   "source": []
  }
 ],
 "metadata": {
  "kernelspec": {
   "display_name": "env",
   "language": "python",
   "name": "python3"
  },
  "language_info": {
   "codemirror_mode": {
    "name": "ipython",
    "version": 3
   },
   "file_extension": ".py",
   "mimetype": "text/x-python",
   "name": "python",
   "nbconvert_exporter": "python",
   "pygments_lexer": "ipython3",
   "version": "3.12.9"
  }
 },
 "nbformat": 4,
 "nbformat_minor": 2
}
