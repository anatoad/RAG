{
 "cells": [
  {
   "cell_type": "code",
   "execution_count": 78,
   "metadata": {},
   "outputs": [
    {
     "name": "stdout",
     "output_type": "stream",
     "text": [
      "The autoreload extension is already loaded. To reload it, use:\n",
      "  %reload_ext autoreload\n"
     ]
    }
   ],
   "source": [
    "%load_ext autoreload\n",
    "%autoreload 2"
   ]
  },
  {
   "cell_type": "code",
   "execution_count": 79,
   "metadata": {},
   "outputs": [],
   "source": [
    "import sys\n",
    "import json\n",
    "if \"../../src\" not in sys.path:\n",
    "    sys.path.append(\"../../src\")\n",
    "import utils\n",
    "import settings\n",
    "from opensearch_client import OpenSearchClient\n",
    "from pdf_processor import PdfProcessor\n",
    "\n",
    "wrapper = utils.get_text_wrapper()"
   ]
  },
  {
   "cell_type": "code",
   "execution_count": 80,
   "metadata": {},
   "outputs": [],
   "source": [
    "INDEX_NAME = \"unstructured-knn-index\""
   ]
  },
  {
   "cell_type": "markdown",
   "metadata": {},
   "source": [
    "Get some pdfs"
   ]
  },
  {
   "cell_type": "code",
   "execution_count": 81,
   "metadata": {},
   "outputs": [],
   "source": [
    "pdfs = [\n",
    "    {\n",
    "        \"file_path\": settings.DATA_DIR / \"admitere\" / \"Test limba straina 21 03 detalii S1 2025.pdf\",\n",
    "        \"url\": \"https://admitere.pub.ro/docs/Test%20limba%20straina%2021%2003%20detalii%20S1%202025.pdf\",\n",
    "        \"output_dir\": settings.DATA_DIR / \"content\" / \"admitere\",\n",
    "    }\n",
    "]"
   ]
  },
  {
   "cell_type": "code",
   "execution_count": 82,
   "metadata": {},
   "outputs": [],
   "source": [
    "pdf = pdfs[0]\n",
    "\n",
    "file_path, url = pdf[\"file_path\"], pdf[\"url\"]\n",
    "\n",
    "pdfProcessor = PdfProcessor(file_path, url=url)\n",
    "\n",
    "pdfProcessor.partition_pdf()\n",
    "\n",
    "pdfProcessor.cleanup_elements()\n",
    "\n",
    "pdfProcessor.perform_chunking()"
   ]
  },
  {
   "cell_type": "code",
   "execution_count": 83,
   "metadata": {},
   "outputs": [
    {
     "name": "stdout",
     "output_type": "stream",
     "text": [
      "{\n",
      "    \"id\": \"9cf23be3e6b1bcbd56f0cab3918a505c41688bb641a64cac3a8509bc9628e5d1-1\",\n",
      "    \"text\": \"Varianta ; Cum dovedesc\n",
      "la înscriere ; Este necesar să susțin testul de limbă POLITEHNICA Bucureşti? Liceu absolvit în respectiva limbă de\n",
      "predare ; Dacă acest lucru nu apare evident din celelalte documente furnizate la înscriere, am grijă să încarc o copie a\n",
      "unui document eliberat de liceu şi din care să reiasă că am urmat un program de studii în respectiva limbă ; NU ;\n",
      "Certificat de competențe lingvistice pentru respectiva limbă de predare (minim B2); ; Încarc o copie a certificatului ;\n",
      "NU ;  Disciplină de tip limbă străină promovată în liceu cu media cel puțin 8,00 (pentru clasele a IX- a,a X-a, a XI-a).\n",
      "; Încarc o copie a unui document eliberat de liceul urmat din care reiese acest lucru ; NU ;  Proba A, B sau C de la\n",
      "examenul de Bacalaureat; ; Încare o copie completă a diplomei de Bacalaureat (inclusiv situaţia la examen) ; NU ;  Aleg\n",
      "să susțin testul de limbă POLITEHNICA Bucureşti; ; Nu încarc nimic la înscriere ; DA ;  L La înscriere optez numai\n",
      "pentru domenii pentru care şcolarizarea se desfăşoară în româna ; Nu încarc nimic la înscriere ; NU ; \",\n",
      "    \"url\":\n",
      "\"https://admitere.pub.ro/docs/Test%20limba%20straina%2021%2003%20detalii%20S1%202025.pdf\",\n",
      "    \"type\": \"pdf\",\n",
      "\"filename\": \"Test limba straina 21 03 detalii S1 2025.pdf\",\n",
      "    \"page_number\": 1,\n",
      "    \"table_id\":\n",
      "\"26d4c0275b50c136734a55a105d0a338ac3f871d16fd2798e26e27d835a1badd\",\n",
      "    \"table_as_markdown\": \"| Varianta\n",
      "| Cum dovedesc la înscriere\n",
      "| Este necesar să susțin testul de limbă POLITEHNICA Bucureşti?\n",
      "|\\n|:-------------------------------------------------------------------------------------------------------------------|:--------------------------------------------------------------------------------------------------------------------------------------------------------------------------------------------------------------------------|:----------------------------------------------------------------|\\n|\n",
      "Liceu absolvit în respectiva limbă de predare                                                                      |\n",
      "Dacă acest lucru nu apare evident din celelalte documente furnizate la înscriere, am grijă să încarc o copie a unui\n",
      "document eliberat de liceu şi din care să reiasă că am urmat un program de studii în respectiva limbă | NU\n",
      "|\\n| Certificat de competențe lingvistice pentru respectiva limbă de predare (minim B2);\n",
      "| Încarc o copie a certificatului\n",
      "| NU                                                              |\\n| Disciplină de tip limbă străină promovată în\n",
      "liceu cu media cel puțin 8,00 (pentru clasele a IX- a,a X-a, a XI-a). | Încarc o copie a unui document eliberat de\n",
      "liceul urmat din care reiese acest lucru\n",
      "| NU                                                              |\\n| Proba A, B sau C de la examenul de Bacalaureat;\n",
      "| Încare o copie completă a diplomei de Bacalaureat (inclusiv situaţia la examen)\n",
      "| NU                                                              |\\n| Aleg să susțin testul de limbă POLITEHNICA\n",
      "Bucureşti;                                                              | Nu încarc nimic la înscriere\n",
      "| DA                                                              |\\n| L La înscriere optez numai pentru domenii pentru\n",
      "care şcolarizarea se desfăşoară în româna                         | Nu încarc nimic la înscriere\n",
      "| NU                                                              |\"\n",
      "}\n",
      "------------------------------------------------------------------------------------------------------------------------\n",
      "{\n",
      "    \"id\": \"9cf23be3e6b1bcbd56f0cab3918a505c41688bb641a64cac3a8509bc9628e5d1-1\",\n",
      "    \"text\": \"Despre testul de limbă\n",
      "on-line POLITEHNICA București din data de 21 martie 2025 L Ce este cu acest test? Am nevoie de el? Dacă doresc să\n",
      "beneficiez de avantajele studiului într-una din limbile de largă circulație (engleză, franceză, germană) și în lista mea\n",
      "de opțiuni includ domenii la care școlarizarea se desfășoară într-una din acest limbi, trebuie, conform legii, să fac\n",
      "dovada că am cunoștințele lingvistice necesare. Dovada se face folosind oricare dintre variantele de mai jos:\",\n",
      "\"url\": \"https://admitere.pub.ro/docs/Test%20limba%20straina%2021%2003%20detalii%20S1%202025.pdf\",\n",
      "    \"type\": \"pdf\",\n",
      "\"filename\": \"Test limba straina 21 03 detalii S1 2025.pdf\",\n",
      "    \"page_number\": 1,\n",
      "    \"table_id\": null,\n",
      "\"table_as_markdown\": null\n",
      "}\n",
      "------------------------------------------------------------------------------------------------------------------------\n",
      "{\n",
      "    \"id\": \"9cf23be3e6b1bcbd56f0cab3918a505c41688bb641a64cac3a8509bc9628e5d1-2\",\n",
      "    \"text\": \"româna II. Am ales să\n",
      "susțin testul, ce trebuie să fac? 1. Mă înscriu (anunț cine sunt și pentru ce limbă susțin testul). 2. Obțin accesul la\n",
      "platforma on-line de test. 3. Susțin testul. 4. Primesc rezultatul. III.Etapele testului on-line POLITEHNICA București A\n",
      "– Înscriere Candidații trebuie să se înscrie pentru a putea susține testul on-line POLITEHNICA București din data de 21\n",
      "martie 2025 prin completarea formularului de la adresa https://forms.office.com/e/xrMTzESmi7 Adresa de e-mail completată\n",
      "in formular trebuie să fie aceeași adresa de e-mail pe care candidatul a utilizat-o sau o va utiliza în cadrul\n",
      "procesului de înscriere la concurs de pe pagina http://admitere.pub.ro/. Formularul trebuie completat până cel târziu pe\n",
      "19 martie 2025 ora 12:00. Toate câmpurile din formular sunt obligatorii! Candidații care nu au completat la timp si în\n",
      "integralitate formularul nu vor putea susține testul on-line POLITEHNICA București. B – Obținere date acces În urma\n",
      "completării formularului, candidatul va primi pe adresa de e-mail pe care a utilizat- o un e-mail care va conține\n",
      "următoarele informații necesare pentru susținerea testului on-line: 1. Link accesare platformă test de limbă on-line; 2.\n",
      "User și parolă necesare pentru accesarea testului propriu-zis. E- mailul se va trimite pe data de 19 martie 2025, după\n",
      "ora 14:00 C – Susținerea testului de limbă Candidatul accesează platforma în care va susține testul on-line POLITEHNICA\n",
      "București folosind datele de la punctul anterior. Testul pentru limba engleză începe la ora 10:00. Testul pentru limba\n",
      "germană începe la ora 12:00. Testul pentru limba franceză începe la ora 14:00. Testul devine disponibil pentru dvs. la\n",
      "ora programată mai sus. Pentru pornirea testului, formularea răspunsurilor, precum și pentru încărcarea acestora, aveți\n",
      "la dispoziție cel mult 100 min (contorizate din momentul în care dvs. ați pornit testul). Testul se va închide automat\n",
      "după 120 min de la ora de început programată, chiar daca nu l-ați finalizat între timp. D – Primire rezultate\",\n",
      "\"url\": \"https://admitere.pub.ro/docs/Test%20limba%20straina%2021%2003%20detalii%20S1%202025.pdf\",\n",
      "    \"type\": \"pdf\",\n",
      "\"filename\": \"Test limba straina 21 03 detalii S1 2025.pdf\",\n",
      "    \"page_number\": 1,\n",
      "    \"table_id\": null,\n",
      "\"table_as_markdown\": null\n",
      "}\n",
      "------------------------------------------------------------------------------------------------------------------------\n",
      "{\n",
      "    \"id\": \"9cf23be3e6b1bcbd56f0cab3918a505c41688bb641a64cac3a8509bc9628e5d1-3\",\n",
      "    \"text\": \"În urma susținerii\n",
      "testului on-line POLITEHNICA București candidatul va primi ca răspuns un e-mail de la adresa test.limbastraina@upb.ro în\n",
      "care va fi declarat Promovat sau Nepromovat.\",\n",
      "    \"url\":\n",
      "\"https://admitere.pub.ro/docs/Test%20limba%20straina%2021%2003%20detalii%20S1%202025.pdf\",\n",
      "    \"type\": \"pdf\",\n",
      "\"filename\": \"Test limba straina 21 03 detalii S1 2025.pdf\",\n",
      "    \"page_number\": 2,\n",
      "    \"table_id\": null,\n",
      "\"table_as_markdown\": null\n",
      "}\n",
      "------------------------------------------------------------------------------------------------------------------------\n"
     ]
    }
   ],
   "source": [
    "for chunk in pdfProcessor.chunks:\n",
    "    print(wrapper.fill(json.dumps(chunk, indent=4, ensure_ascii=False)))\n",
    "    print(wrapper.fill(\"-\" * wrapper.width))\n"
   ]
  },
  {
   "cell_type": "markdown",
   "metadata": {},
   "source": [
    "Ingest data into OpenSearch"
   ]
  },
  {
   "cell_type": "code",
   "execution_count": 84,
   "metadata": {},
   "outputs": [],
   "source": [
    "data = pdfProcessor.format_data(INDEX_NAME)"
   ]
  },
  {
   "cell_type": "code",
   "execution_count": 85,
   "metadata": {},
   "outputs": [],
   "source": [
    "client = OpenSearchClient()"
   ]
  },
  {
   "cell_type": "code",
   "execution_count": 86,
   "metadata": {},
   "outputs": [],
   "source": [
    "ret = client.ingest_data_bulk(data)"
   ]
  },
  {
   "cell_type": "code",
   "execution_count": 87,
   "metadata": {},
   "outputs": [
    {
     "name": "stdout",
     "output_type": "stream",
     "text": [
      "{'took': 893, 'timed_out': False, '_shards': {'total': 1, 'successful': 1, 'skipped': 0, 'failed': 0}, 'hits': {'total': {'value': 3, 'relation': 'eq'}, 'max_score': 1.0, 'hits': [{'_index': 'unstructured-knn-index', '_id': '9cf23be3e6b1bcbd56f0cab3918a505c41688bb641a64cac3a8509bc9628e5d1-1', '_score': 1.0, '_source': {'filename': 'Test limba straina 21 03 detalii S1 2025.pdf', 'page_number': 1, 'table_as_markdown': None, 'id': '9cf23be3e6b1bcbd56f0cab3918a505c41688bb641a64cac3a8509bc9628e5d1-1', 'text': 'Despre testul de limbă on-line POLITEHNICA București din data de 21 martie 2025 L Ce este cu acest test? Am nevoie de el? Dacă doresc să beneficiez de avantajele studiului într-una din limbile de largă circulație (engleză, franceză, germană) și în lista mea de opțiuni includ domenii la care școlarizarea se desfășoară într-una din acest limbi, trebuie, conform legii, să fac dovada că am cunoștințele lingvistice necesare. Dovada se face folosind oricare dintre variantele de mai jos:', 'type': 'pdf', 'table_id': None, 'url': 'https://admitere.pub.ro/docs/Test%20limba%20straina%2021%2003%20detalii%20S1%202025.pdf'}}, {'_index': 'unstructured-knn-index', '_id': '9cf23be3e6b1bcbd56f0cab3918a505c41688bb641a64cac3a8509bc9628e5d1-2', '_score': 1.0, '_source': {'filename': 'Test limba straina 21 03 detalii S1 2025.pdf', 'page_number': 1, 'table_as_markdown': None, 'id': '9cf23be3e6b1bcbd56f0cab3918a505c41688bb641a64cac3a8509bc9628e5d1-2', 'text': 'româna II. Am ales să susțin testul, ce trebuie să fac? 1. Mă înscriu (anunț cine sunt și pentru ce limbă susțin testul). 2. Obțin accesul la platforma on-line de test. 3. Susțin testul. 4. Primesc rezultatul. III.Etapele testului on-line POLITEHNICA București A – Înscriere Candidații trebuie să se înscrie pentru a putea susține testul on-line POLITEHNICA București din data de 21 martie 2025 prin completarea formularului de la adresa https://forms.office.com/e/xrMTzESmi7 Adresa de e-mail completată in formular trebuie să fie aceeași adresa de e-mail pe care candidatul a utilizat-o sau o va utiliza în cadrul procesului de înscriere la concurs de pe pagina http://admitere.pub.ro/. Formularul trebuie completat până cel târziu pe 19 martie 2025 ora 12:00. Toate câmpurile din formular sunt obligatorii! Candidații care nu au completat la timp si în integralitate formularul nu vor putea susține testul on-line POLITEHNICA București. B – Obținere date acces În urma completării formularului, candidatul va primi pe adresa de e-mail pe care a utilizat- o un e-mail care va conține următoarele informații necesare pentru susținerea testului on-line: 1. Link accesare platformă test de limbă on-line; 2. User și parolă necesare pentru accesarea testului propriu-zis. E- mailul se va trimite pe data de 19 martie 2025, după ora 14:00 C – Susținerea testului de limbă Candidatul accesează platforma în care va susține testul on-line POLITEHNICA București folosind datele de la punctul anterior. Testul pentru limba engleză începe la ora 10:00. Testul pentru limba germană începe la ora 12:00. Testul pentru limba franceză începe la ora 14:00. Testul devine disponibil pentru dvs. la ora programată mai sus. Pentru pornirea testului, formularea răspunsurilor, precum și pentru încărcarea acestora, aveți la dispoziție cel mult 100 min (contorizate din momentul în care dvs. ați pornit testul). Testul se va închide automat după 120 min de la ora de început programată, chiar daca nu l-ați finalizat între timp. D – Primire rezultate', 'type': 'pdf', 'table_id': None, 'url': 'https://admitere.pub.ro/docs/Test%20limba%20straina%2021%2003%20detalii%20S1%202025.pdf'}}, {'_index': 'unstructured-knn-index', '_id': '9cf23be3e6b1bcbd56f0cab3918a505c41688bb641a64cac3a8509bc9628e5d1-3', '_score': 1.0, '_source': {'filename': 'Test limba straina 21 03 detalii S1 2025.pdf', 'page_number': 2, 'table_as_markdown': None, 'id': '9cf23be3e6b1bcbd56f0cab3918a505c41688bb641a64cac3a8509bc9628e5d1-3', 'text': 'În urma susținerii testului on-line POLITEHNICA București candidatul va primi ca răspuns un e-mail de la adresa test.limbastraina@upb.ro în care va fi declarat Promovat sau Nepromovat.', 'type': 'pdf', 'table_id': None, 'url': 'https://admitere.pub.ro/docs/Test%20limba%20straina%2021%2003%20detalii%20S1%202025.pdf'}}]}}\n"
     ]
    }
   ],
   "source": [
    "print(client.get_all_elements(INDEX_NAME))"
   ]
  },
  {
   "cell_type": "code",
   "execution_count": 88,
   "metadata": {},
   "outputs": [
    {
     "name": "stdout",
     "output_type": "stream",
     "text": [
      "[\n",
      "    true,\n",
      "    {\n",
      "        \"index\": {\n",
      "            \"_index\": \"unstructured-knn-index\",\n",
      "            \"_id\": \"9cf23be3e6b1bcbd56f0cab3918a505c41688bb641a64cac3a8509bc9628e5d1-1\",\n",
      "            \"_version\": 3,\n",
      "            \"result\": \"updated\",\n",
      "            \"_shards\": {\n",
      "                \"total\": 2,\n",
      "                \"successful\": 2,\n",
      "                \"failed\": 0\n",
      "            },\n",
      "            \"_seq_no\": 4,\n",
      "            \"_primary_term\": 1,\n",
      "            \"status\": 200\n",
      "        }\n",
      "    }\n",
      "]\n",
      "[\n",
      "    true,\n",
      "    {\n",
      "        \"index\": {\n",
      "            \"_index\": \"unstructured-knn-index\",\n",
      "            \"_id\": \"9cf23be3e6b1bcbd56f0cab3918a505c41688bb641a64cac3a8509bc9628e5d1-1\",\n",
      "            \"_version\": 4,\n",
      "            \"result\": \"updated\",\n",
      "            \"_shards\": {\n",
      "                \"total\": 2,\n",
      "                \"successful\": 2,\n",
      "                \"failed\": 0\n",
      "            },\n",
      "            \"_seq_no\": 5,\n",
      "            \"_primary_term\": 1,\n",
      "            \"status\": 200\n",
      "        }\n",
      "    }\n",
      "]\n",
      "[\n",
      "    true,\n",
      "    {\n",
      "        \"index\": {\n",
      "            \"_index\": \"unstructured-knn-index\",\n",
      "            \"_id\": \"9cf23be3e6b1bcbd56f0cab3918a505c41688bb641a64cac3a8509bc9628e5d1-2\",\n",
      "            \"_version\": 2,\n",
      "            \"result\": \"updated\",\n",
      "            \"_shards\": {\n",
      "                \"total\": 2,\n",
      "                \"successful\": 2,\n",
      "                \"failed\": 0\n",
      "            },\n",
      "            \"_seq_no\": 6,\n",
      "            \"_primary_term\": 1,\n",
      "            \"status\": 200\n",
      "        }\n",
      "    }\n",
      "]\n",
      "[\n",
      "    true,\n",
      "    {\n",
      "        \"index\": {\n",
      "            \"_index\": \"unstructured-knn-index\",\n",
      "            \"_id\": \"9cf23be3e6b1bcbd56f0cab3918a505c41688bb641a64cac3a8509bc9628e5d1-3\",\n",
      "            \"_version\": 2,\n",
      "            \"result\": \"updated\",\n",
      "            \"_shards\": {\n",
      "                \"total\": 2,\n",
      "                \"successful\": 2,\n",
      "                \"failed\": 0\n",
      "            },\n",
      "            \"_seq_no\": 7,\n",
      "            \"_primary_term\": 1,\n",
      "            \"status\": 200\n",
      "        }\n",
      "    }\n",
      "]\n"
     ]
    }
   ],
   "source": [
    "for obj in ret:\n",
    "    print(json.dumps(obj, indent=4))"
   ]
  },
  {
   "cell_type": "code",
   "execution_count": 89,
   "metadata": {},
   "outputs": [
    {
     "name": "stdout",
     "output_type": "stream",
     "text": [
      "[\n",
      "    {\n",
      "        \"_index\": \"unstructured-knn-index\",\n",
      "        \"_id\": \"9cf23be3e6b1bcbd56f0cab3918a505c41688bb641a64cac3a8509bc9628e5d1-1\",\n",
      "        \"id\": \"9cf23be3e6b1bcbd56f0cab3918a505c41688bb641a64cac3a8509bc9628e5d1-1\",\n",
      "        \"text\": \"Varianta ; Cum dovedesc la înscriere ; Este necesar să susțin testul de limbă POLITEHNICA Bucureşti? Liceu absolvit în respectiva limbă de predare ; Dacă acest lucru nu apare evident din celelalte documente furnizate la înscriere, am grijă să încarc o copie a unui document eliberat de liceu şi din care să reiasă că am urmat un program de studii în respectiva limbă ; NU ;  Certificat de competențe lingvistice pentru respectiva limbă de predare (minim B2); ; Încarc o copie a certificatului ; NU ;  Disciplină de tip limbă străină promovată în liceu cu media cel puțin 8,00 (pentru clasele a IX- a,a X-a, a XI-a). ; Încarc o copie a unui document eliberat de liceul urmat din care reiese acest lucru ; NU ;  Proba A, B sau C de la examenul de Bacalaureat; ; Încare o copie completă a diplomei de Bacalaureat (inclusiv situaţia la examen) ; NU ;  Aleg să susțin testul de limbă POLITEHNICA Bucureşti; ; Nu încarc nimic la înscriere ; DA ;  L La înscriere optez numai pentru domenii pentru care şcolarizarea se desfăşoară în româna ; Nu încarc nimic la înscriere ; NU ; \",\n",
      "        \"url\": \"https://admitere.pub.ro/docs/Test%20limba%20straina%2021%2003%20detalii%20S1%202025.pdf\",\n",
      "        \"type\": \"pdf\",\n",
      "        \"filename\": \"Test limba straina 21 03 detalii S1 2025.pdf\",\n",
      "        \"page_number\": 1,\n",
      "        \"table_id\": \"26d4c0275b50c136734a55a105d0a338ac3f871d16fd2798e26e27d835a1badd\",\n",
      "        \"table_as_markdown\": \"| Varianta                                                                                                           | Cum dovedesc la înscriere                                                                                                                                                                                                 | Este necesar să susțin testul de limbă POLITEHNICA Bucureşti?   |\\n|:-------------------------------------------------------------------------------------------------------------------|:--------------------------------------------------------------------------------------------------------------------------------------------------------------------------------------------------------------------------|:----------------------------------------------------------------|\\n| Liceu absolvit în respectiva limbă de predare                                                                      | Dacă acest lucru nu apare evident din celelalte documente furnizate la înscriere, am grijă să încarc o copie a unui document eliberat de liceu şi din care să reiasă că am urmat un program de studii în respectiva limbă | NU                                                              |\\n| Certificat de competențe lingvistice pentru respectiva limbă de predare (minim B2);                                | Încarc o copie a certificatului                                                                                                                                                                                           | NU                                                              |\\n| Disciplină de tip limbă străină promovată în liceu cu media cel puțin 8,00 (pentru clasele a IX- a,a X-a, a XI-a). | Încarc o copie a unui document eliberat de liceul urmat din care reiese acest lucru                                                                                                                                       | NU                                                              |\\n| Proba A, B sau C de la examenul de Bacalaureat;                                                                    | Încare o copie completă a diplomei de Bacalaureat (inclusiv situaţia la examen)                                                                                                                                           | NU                                                              |\\n| Aleg să susțin testul de limbă POLITEHNICA Bucureşti;                                                              | Nu încarc nimic la înscriere                                                                                                                                                                                              | DA                                                              |\\n| L La înscriere optez numai pentru domenii pentru care şcolarizarea se desfăşoară în româna                         | Nu încarc nimic la înscriere                                                                                                                                                                                              | NU                                                              |\"\n",
      "    },\n",
      "    {\n",
      "        \"_index\": \"unstructured-knn-index\",\n",
      "        \"_id\": \"9cf23be3e6b1bcbd56f0cab3918a505c41688bb641a64cac3a8509bc9628e5d1-1\",\n",
      "        \"id\": \"9cf23be3e6b1bcbd56f0cab3918a505c41688bb641a64cac3a8509bc9628e5d1-1\",\n",
      "        \"text\": \"Despre testul de limbă on-line POLITEHNICA București din data de 21 martie 2025 L Ce este cu acest test? Am nevoie de el? Dacă doresc să beneficiez de avantajele studiului într-una din limbile de largă circulație (engleză, franceză, germană) și în lista mea de opțiuni includ domenii la care școlarizarea se desfășoară într-una din acest limbi, trebuie, conform legii, să fac dovada că am cunoștințele lingvistice necesare. Dovada se face folosind oricare dintre variantele de mai jos:\",\n",
      "        \"url\": \"https://admitere.pub.ro/docs/Test%20limba%20straina%2021%2003%20detalii%20S1%202025.pdf\",\n",
      "        \"type\": \"pdf\",\n",
      "        \"filename\": \"Test limba straina 21 03 detalii S1 2025.pdf\",\n",
      "        \"page_number\": 1,\n",
      "        \"table_id\": null,\n",
      "        \"table_as_markdown\": null\n",
      "    },\n",
      "    {\n",
      "        \"_index\": \"unstructured-knn-index\",\n",
      "        \"_id\": \"9cf23be3e6b1bcbd56f0cab3918a505c41688bb641a64cac3a8509bc9628e5d1-2\",\n",
      "        \"id\": \"9cf23be3e6b1bcbd56f0cab3918a505c41688bb641a64cac3a8509bc9628e5d1-2\",\n",
      "        \"text\": \"româna II. Am ales să susțin testul, ce trebuie să fac? 1. Mă înscriu (anunț cine sunt și pentru ce limbă susțin testul). 2. Obțin accesul la platforma on-line de test. 3. Susțin testul. 4. Primesc rezultatul. III.Etapele testului on-line POLITEHNICA București A – Înscriere Candidații trebuie să se înscrie pentru a putea susține testul on-line POLITEHNICA București din data de 21 martie 2025 prin completarea formularului de la adresa https://forms.office.com/e/xrMTzESmi7 Adresa de e-mail completată in formular trebuie să fie aceeași adresa de e-mail pe care candidatul a utilizat-o sau o va utiliza în cadrul procesului de înscriere la concurs de pe pagina http://admitere.pub.ro/. Formularul trebuie completat până cel târziu pe 19 martie 2025 ora 12:00. Toate câmpurile din formular sunt obligatorii! Candidații care nu au completat la timp si în integralitate formularul nu vor putea susține testul on-line POLITEHNICA București. B – Obținere date acces În urma completării formularului, candidatul va primi pe adresa de e-mail pe care a utilizat- o un e-mail care va conține următoarele informații necesare pentru susținerea testului on-line: 1. Link accesare platformă test de limbă on-line; 2. User și parolă necesare pentru accesarea testului propriu-zis. E- mailul se va trimite pe data de 19 martie 2025, după ora 14:00 C – Susținerea testului de limbă Candidatul accesează platforma în care va susține testul on-line POLITEHNICA București folosind datele de la punctul anterior. Testul pentru limba engleză începe la ora 10:00. Testul pentru limba germană începe la ora 12:00. Testul pentru limba franceză începe la ora 14:00. Testul devine disponibil pentru dvs. la ora programată mai sus. Pentru pornirea testului, formularea răspunsurilor, precum și pentru încărcarea acestora, aveți la dispoziție cel mult 100 min (contorizate din momentul în care dvs. ați pornit testul). Testul se va închide automat după 120 min de la ora de început programată, chiar daca nu l-ați finalizat între timp. D – Primire rezultate\",\n",
      "        \"url\": \"https://admitere.pub.ro/docs/Test%20limba%20straina%2021%2003%20detalii%20S1%202025.pdf\",\n",
      "        \"type\": \"pdf\",\n",
      "        \"filename\": \"Test limba straina 21 03 detalii S1 2025.pdf\",\n",
      "        \"page_number\": 1,\n",
      "        \"table_id\": null,\n",
      "        \"table_as_markdown\": null\n",
      "    },\n",
      "    {\n",
      "        \"_index\": \"unstructured-knn-index\",\n",
      "        \"_id\": \"9cf23be3e6b1bcbd56f0cab3918a505c41688bb641a64cac3a8509bc9628e5d1-3\",\n",
      "        \"id\": \"9cf23be3e6b1bcbd56f0cab3918a505c41688bb641a64cac3a8509bc9628e5d1-3\",\n",
      "        \"text\": \"În urma susținerii testului on-line POLITEHNICA București candidatul va primi ca răspuns un e-mail de la adresa test.limbastraina@upb.ro în care va fi declarat Promovat sau Nepromovat.\",\n",
      "        \"url\": \"https://admitere.pub.ro/docs/Test%20limba%20straina%2021%2003%20detalii%20S1%202025.pdf\",\n",
      "        \"type\": \"pdf\",\n",
      "        \"filename\": \"Test limba straina 21 03 detalii S1 2025.pdf\",\n",
      "        \"page_number\": 2,\n",
      "        \"table_id\": null,\n",
      "        \"table_as_markdown\": null\n",
      "    }\n",
      "]\n"
     ]
    }
   ],
   "source": [
    "print(json.dumps(data, indent=4, ensure_ascii=False))"
   ]
  },
  {
   "cell_type": "code",
   "execution_count": null,
   "metadata": {},
   "outputs": [],
   "source": []
  }
 ],
 "metadata": {
  "kernelspec": {
   "display_name": "env",
   "language": "python",
   "name": "python3"
  },
  "language_info": {
   "codemirror_mode": {
    "name": "ipython",
    "version": 3
   },
   "file_extension": ".py",
   "mimetype": "text/x-python",
   "name": "python",
   "nbconvert_exporter": "python",
   "pygments_lexer": "ipython3",
   "version": "3.12.9"
  }
 },
 "nbformat": 4,
 "nbformat_minor": 2
}
