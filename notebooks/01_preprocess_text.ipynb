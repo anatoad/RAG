{
 "cells": [
  {
   "cell_type": "code",
   "execution_count": 36,
   "metadata": {},
   "outputs": [],
   "source": [
    "import os\n",
    "import ocrmypdf\n",
    "from pathlib import Path\n",
    "import pymupdf\n",
    "import torch\n",
    "import sys\n",
    "\n",
    "sys.path.append('../src')\n",
    "\n",
    "from utils import *\n",
    "from config import *"
   ]
  },
  {
   "cell_type": "code",
   "execution_count": 2,
   "metadata": {},
   "outputs": [
    {
     "name": "stdout",
     "output_type": "stream",
     "text": [
      "Running code @ cpu\n"
     ]
    }
   ],
   "source": [
    "# Run on GPU if available\n",
    "device = torch.device(\"cuda\" if torch.cuda.is_available() else \"cpu\")\n",
    "print(f'Running code @ {device}')"
   ]
  },
  {
   "cell_type": "markdown",
   "metadata": {},
   "source": [
    "#### Apply OCR on scanned pdfs"
   ]
  },
  {
   "cell_type": "code",
   "execution_count": null,
   "metadata": {},
   "outputs": [],
   "source": [
    "# TODO: define better criteria for applying OCR, not only for scanned pdfs"
   ]
  },
  {
   "cell_type": "code",
   "execution_count": 27,
   "metadata": {},
   "outputs": [],
   "source": [
    "def pdf_needs_ocr(pdf_path: str) -> bool:\n",
    "    doc = pymupdf.open(pdf_path)\n",
    "\n",
    "    return not any([page.get_text().strip() for page in doc])\n",
    "\n",
    "def apply_ocr(pdf_path: str) -> str | None:\n",
    "    \"\"\"\n",
    "    Check if document needs OCR, use ocrmypdf.\n",
    "    Return path of output pdf.\n",
    "    \"\"\"\n",
    "\n",
    "    if not pdf_needs_ocr(pdf_path):\n",
    "        return None\n",
    "\n",
    "    filename = pdf_path.split(\"/\")[-1]\n",
    "    dir = OCR_DIR / pdf_path.split(\"/\")[-2]\n",
    "    output_pdf_path = dir / filename\n",
    "\n",
    "    os.makedirs(dir, exist_ok=True)\n",
    "\n",
    "    if not os.path.exists(output_pdf_path):\n",
    "        ocrmypdf.ocr(\n",
    "            input_file=pdf_path,\n",
    "            output_file=output_pdf_path.as_posix(),\n",
    "            output_type=\"pdf\",\n",
    "            language=\"ron\",\n",
    "            deskew=True,\n",
    "            rotate_pages=True,\n",
    "            progress_bar=True,\n",
    "            jobs=4,\n",
    "        )\n",
    "\n",
    "    return output_pdf_path.relative_to(BASE_DIR).as_posix()"
   ]
  },
  {
   "cell_type": "code",
   "execution_count": 37,
   "metadata": {},
   "outputs": [],
   "source": [
    "def preprocess_pdfs(path=DATA_DIR) -> None:\n",
    "    directories = get_directories(path)\n",
    "    directories.remove(OCR_DIR.name)\n",
    "\n",
    "    for directory in directories:\n",
    "        pdfs = get_files_by_extension(path=os.path.join(DATA_DIR, directory), extension=\".pdf\")\n",
    "\n",
    "        metadata_filepath = Path(path) / directory / \"metadata.json\"\n",
    "        metadata = read_metadata(metadata_filepath)\n",
    "\n",
    "        for filename in pdfs:\n",
    "            pdf_path = DATA_DIR / directory / filename\n",
    "            ocr_path = apply_ocr(pdf_path.as_posix())\n",
    "\n",
    "            if ocr_path:\n",
    "                metadata[filename][\"ocr_path\"] = ocr_path\n",
    "        \n",
    "        write_to_json_file(metadata_filepath.as_posix(), metadata)\n",
    "\n",
    "preprocess_pdfs()"
   ]
  }
 ],
 "metadata": {
  "kernelspec": {
   "display_name": "env",
   "language": "python",
   "name": "python3"
  },
  "language_info": {
   "codemirror_mode": {
    "name": "ipython",
    "version": 3
   },
   "file_extension": ".py",
   "mimetype": "text/x-python",
   "name": "python",
   "nbconvert_exporter": "python",
   "pygments_lexer": "ipython3",
   "version": "3.12.9"
  }
 },
 "nbformat": 4,
 "nbformat_minor": 2
}
