{
 "cells": [
  {
   "cell_type": "code",
   "execution_count": 1,
   "metadata": {},
   "outputs": [],
   "source": [
    "import torch\n",
    "import sys\n",
    "if '../src' not in sys.path:\n",
    "    sys.path.append('../src')\n",
    "from utils import *\n",
    "from config import *\n",
    "from retriever import Retriever\n",
    "from chatbot import Chatbot"
   ]
  },
  {
   "cell_type": "code",
   "execution_count": 2,
   "metadata": {},
   "outputs": [
    {
     "name": "stdout",
     "output_type": "stream",
     "text": [
      "Running code @ cpu\n"
     ]
    }
   ],
   "source": [
    "# Run on GPU if available\n",
    "device = torch.device(\"cuda\" if torch.cuda.is_available() else \"cpu\")\n",
    "print(f'Running code @ {device}')\n",
    "\n",
    "# Initialize logger\n",
    "logger = get_logger(\"03_rag_pipeline\")\n",
    "\n",
    "wrapper = TextWrapper()\n",
    "wrapper.width = 120\n",
    "wrapper.replace_whitespace = False\n",
    "wrapper.break_long_words = False\n",
    "wrapper.break_on_hyphens = False"
   ]
  },
  {
   "cell_type": "markdown",
   "metadata": {},
   "source": [
    "### Document retriever\n",
    "\n",
    "The document retriever is responsible for finding relevant documents based on the user question. It initializes an Opensearch client, uses a `neural` query for semantic search.\n",
    "\n",
    "Use the `MODEL_ID` of the embedding model used at ingestion time to generate vector embeddings for the queries' text.\n",
    "\n",
    "[OpenSearch Python Client docs](https://opensearch-project.github.io/opensearch-py/api-ref/clients/opensearch_client.html)"
   ]
  },
  {
   "cell_type": "code",
   "execution_count": 3,
   "metadata": {},
   "outputs": [],
   "source": [
    "retriever = Retriever(logger=logger)"
   ]
  },
  {
   "cell_type": "code",
   "execution_count": 4,
   "metadata": {},
   "outputs": [
    {
     "name": "stdout",
     "output_type": "stream",
     "text": [
      "{\n",
      "    \"page_content\": \"FINANȚAREA STUDIILOR (1) O persoană poate beneficia de finanțarea studiilor de la bugetul de stat, pentru un singur program de studiidin cadrulfiecărui ciclu de studii universitare (ciclul de scurtă durată, licență, masterat şi doctorat). (2) Un student poate fi înmatriculat concomitent la cel mult două programe în cadrul aceluiași ciclu de studii, indiferent de instituțiile de învățământ furnizoare de educație. Actele și documentele de studii se depun în original la facultatea / programul de studii unde studentul MINISTERUL EDUCAȚIEI Universitatea Naţională de Ştiinţă şi Tehnologie POLITEHNICA Bucureşti 9 beneficiază de finanțare de la buget, iar acolo unde este înmatriculat cu taxă, documentele se depun în copie conform cu originalul, însoțite de act doveditor de la instituția unde are depuse documentele în original. (3) POLITEHNICA București percepe taxe, în afara celor privind şcolarizarea suportate individual de către studenţi, şi în următoarele situaţii: a) la depășirea duratei programate de școlarizare;\",\n",
      "    \"metadata\": {\n",
      "        \"id\": \"3b29b0516a0b7af978077a8daaa189c3b82dad4559940a8acebc9017b6e97310-20\",\n",
      "        \"url\": \"https://upb.ro/wp-content/uploads/2022/11/Regulament-org-studii-univ-licenta_2024.pdf\",\n",
      "        \"filename\": \"Regulament-org-studii-univ-licenta_2024.pdf\",\n",
      "        \"page_number\": 8\n",
      "    }\n",
      "}\n",
      "{\n",
      "    \"page_content\": \"Pentru Centrul Universitar Pitești, forma de finanțare pentru studentul masterand se va stabili în fiecare an, conform ierarhizării studenților după medii, fără a fi menținut locul la buget sau taxă, obținut la admitere, toată perioada școlarizării. Cuantumul taxei, pentru fiecare an de studiu, se aprobă de Senatul Universității, în funcție de costurile specifice școlarizării. 9 Art. 35. În organizarea formațiilor de studiu nu se face distincție între cele două categorii de admiși, cu sau fără taxă. Art. 36. Candidații declarați admiși vor completa și semna olograf contractul de studii universitare de masterat, respectiv un contract individual de studii şi pregătire practică la învăţământul dual, după înmatriculare și nu mai târziu de începutul anului universitar 2025-2026. În caz contrar aceștia vor pierde statutul de masterand.\",\n",
      "    \"metadata\": {\n",
      "        \"id\": \"79426a1571b68492454210a4455253ad1c6ca02f95283000457c0e0eb426d81d-28\",\n",
      "        \"url\": \"https://upb.ro/wp-content/uploads/2024/12/Regulament-admitere-masterat-2025-2026.pdf\",\n",
      "        \"filename\": \"Regulament-admitere-masterat-2025-2026.pdf\",\n",
      "        \"page_number\": 8\n",
      "    }\n",
      "}\n",
      "{\n",
      "    \"page_content\": \"Resursele financiare alocate de la buget cu aceasta destinație vor fi suplimentate şi din resursele proprii ale universității. Astfel, din resurse proprii vor fi finanțate: premii pentru realizări deosebite, premii pentru şefii de promoţie, susţinerea suplimentară a studenţilor în programe de mobilitate ale Uniunii Europene, burse pentru studenţii implicaţi în activităţile din campusurile studenţeşti, precum şi alte burse speciale. O preocupare importantă a universităţii o constituie atragerea de resurse financiare pentru suplimentarea fondului de burse și acordarea de sprijin financiar, în special prin accesarea de fonduri europene pentru burse sociale, stagii de practică, masterat și doctorat. Bursele sociale și diferite alte forme de sprijin au în vedere asigurarea egalității de șanse în accesul la o formă superioară de pregătire, de calitate, pentru toți tinerii, indiferent de mediul din care provin, cu aplicarea principiilor nediscriminării.\",\n",
      "    \"metadata\": {\n",
      "        \"id\": \"a9202d542e09e14932d52b0563523b7867626b09ee89d52bd1573b450887b496-77\",\n",
      "        \"url\": \"https://upb.ro/wp-content/uploads/2018/02/Plan_strategic_MC_2016-2020.pdf\",\n",
      "        \"filename\": \"Plan_strategic_MC_2016-2020.pdf\",\n",
      "        \"page_number\": 40\n",
      "    }\n",
      "}\n"
     ]
    }
   ],
   "source": [
    "# query_text = \"atributii responsabili de proces\"\n",
    "query_text = \"bursa pentru studenti\"\n",
    "\n",
    "docs = retriever.retrieve_documents(query_text=query_text)\n",
    "\n",
    "retriever.print_documents(docs)"
   ]
  },
  {
   "cell_type": "markdown",
   "metadata": {},
   "source": [
    "### RAG pipeline\n",
    "\n",
    "Initialize llm"
   ]
  },
  {
   "cell_type": "code",
   "execution_count": 5,
   "metadata": {},
   "outputs": [],
   "source": [
    "from langchain_openai import ChatOpenAI\n",
    "import getpass\n",
    "\n",
    "if not os.environ.get(\"OPENAI_API_KEY\"):\n",
    "    os.environ[\"OPENAI_API_KEY\"] = getpass.getpass(\"Enter API key for OpenAI: \")\n",
    "\n",
    "llm = ChatOpenAI(model=\"gpt-3.5-turbo\")"
   ]
  },
  {
   "cell_type": "code",
   "execution_count": 6,
   "metadata": {},
   "outputs": [],
   "source": [
    "chatbot = Chatbot(retriever=retriever, llm=llm)"
   ]
  },
  {
   "cell_type": "code",
   "execution_count": 7,
   "metadata": {},
   "outputs": [
    {
     "name": "stdout",
     "output_type": "stream",
     "text": [
      "UTILIZATOR:\n",
      "Cum pot obtine credite suplimentare?\n",
      "------------------------------------------------------------------------------------------------------------------------\n",
      "ASISTENT:\n",
      "În cadrul Universității Politehnica București, conform Legii finanțelor publice nr. 500/2002, art. 22, ordonatorii de\n",
      "credite răspund de angajarea, lichidarea și ordonanțarea cheltuielilor în limita creditelor bugetare repartizate și\n",
      "aprobate. Pentru a obține credite suplimentare, trebuie să te adresezi ordonatorului de credite (conform procedurilor\n",
      "interne stabilite în instituție) și să justifici necesitatea suplimentării creditului bugetar solicitat. Este important\n",
      "să respecți normele și procedurile legale în vigoare pentru obținerea acestor credite suplimentare.\n",
      "\n",
      "Surse:\n",
      "-\n",
      "Procedura-de-desemnare-a-autoritatii-ierarhiilor-de-autorizare-de-limitare-a-autoritatii-si-a-relatiilor-de-raportare-in-cadrul-DFC.pdf:\n",
      "https://upb.ro/wp-content/uploads/2017/11/Procedura-de-desemnare-a-autoritatii-ierarhiilor-de-autorizare-de-limitare-a-autoritatii-si-a-relatiilor-de-raportare-in-cadrul-DFC.pdf\n",
      "------------------------------------------------------------------------------------------------------------------------\n"
     ]
    }
   ],
   "source": [
    "query_text = \"Cum pot obtine credite suplimentare?\"\n",
    "chatbot.run(query_text)\n",
    "chatbot._print_conversation_history()"
   ]
  },
  {
   "cell_type": "code",
   "execution_count": 8,
   "metadata": {},
   "outputs": [
    {
     "name": "stdout",
     "output_type": "stream",
     "text": [
      "UTILIZATOR:\n",
      "Cum pot obtine credite suplimentare?\n",
      "------------------------------------------------------------------------------------------------------------------------\n",
      "ASISTENT:\n",
      "În cadrul Universității Politehnica București, conform Legii finanțelor publice nr. 500/2002, art. 22, ordonatorii de\n",
      "credite răspund de angajarea, lichidarea și ordonanțarea cheltuielilor în limita creditelor bugetare repartizate și\n",
      "aprobate. Pentru a obține credite suplimentare, trebuie să te adresezi ordonatorului de credite (conform procedurilor\n",
      "interne stabilite în instituție) și să justifici necesitatea suplimentării creditului bugetar solicitat. Este important\n",
      "să respecți normele și procedurile legale în vigoare pentru obținerea acestor credite suplimentare.\n",
      "\n",
      "Surse:\n",
      "-\n",
      "Procedura-de-desemnare-a-autoritatii-ierarhiilor-de-autorizare-de-limitare-a-autoritatii-si-a-relatiilor-de-raportare-in-cadrul-DFC.pdf:\n",
      "https://upb.ro/wp-content/uploads/2017/11/Procedura-de-desemnare-a-autoritatii-ierarhiilor-de-autorizare-de-limitare-a-autoritatii-si-a-relatiilor-de-raportare-in-cadrul-DFC.pdf\n",
      "------------------------------------------------------------------------------------------------------------------------\n",
      "UTILIZATOR:\n",
      "Cum pot obține bursă la facultate?\n",
      "------------------------------------------------------------------------------------------------------------------------\n",
      "ASISTENT:\n",
      "În cadrul Universității Politehnica București, pentru a obține o bursă la facultate, trebuie să te informezi asupra\n",
      "criteriilor și procedurilor specifice fiecărei categorii de burse disponibile în instituție. Aceste criterii pot include\n",
      "performanțe academice deosebite, situația materială a solicitantului, implicarea în activități extracurriculare etc.\n",
      "Poți accesa informații detaliate referitoare la bursele oferite la UPB consultând pagina web a universității sau\n",
      "contactând direcția responsabilă de gestionarea bursei.\n",
      "\n",
      "Surse:\n",
      "-\n",
      "Procedura-de-desemnare-a-autoritatii-ierarhiilor-de-autorizare-de-limitare-a-autoritatii-si-a-relatiilor-de-raportare-in-cadrul-DFC.pdf:\n",
      "https://upb.ro/wp-content/uploads/2017/11/Procedura-de-desemnare-a-autoritatii-ierarhiilor-de-autorizare-de-limitare-a-autoritatii-si-a-relatiilor-de-raportare-in-cadrul-DFC.pdf\n",
      "------------------------------------------------------------------------------------------------------------------------\n"
     ]
    }
   ],
   "source": [
    "chatbot.run(\"Cum pot obține bursă la facultate?\")\n",
    "chatbot._print_conversation_history()"
   ]
  },
  {
   "cell_type": "code",
   "execution_count": 9,
   "metadata": {},
   "outputs": [
    {
     "name": "stdout",
     "output_type": "stream",
     "text": [
      "Utilizator: Cum pot obtine credite suplimentare?\n",
      "Asistent: În cadrul Universității Politehnica București, conform Legii finanțelor publice nr. 500/2002, art. 22, ordonatorii de credite răspund de angajarea, lichidarea și ordonanțarea cheltuielilor în limita creditelor bugetare repartizate și aprobate. Pentru a obține credite suplimentare, trebuie să te adresezi ordonatorului de credite (conform procedurilor interne stabilite în instituție) și să justifici necesitatea suplimentării creditului bugetar solicitat. Este important să respecți normele și procedurile legale în vigoare pentru obținerea acestor credite suplimentare.\n",
      "\n",
      "Surse:\n",
      "- Procedura-de-desemnare-a-autoritatii-ierarhiilor-de-autorizare-de-limitare-a-autoritatii-si-a-relatiilor-de-raportare-in-cadrul-DFC.pdf: https://upb.ro/wp-content/uploads/2017/11/Procedura-de-desemnare-a-autoritatii-ierarhiilor-de-autorizare-de-limitare-a-autoritatii-si-a-relatiilor-de-raportare-in-cadrul-DFC.pdf\n"
     ]
    }
   ],
   "source": [
    "print(chatbot.state[\"conversation_text\"])"
   ]
  },
  {
   "cell_type": "code",
   "execution_count": 10,
   "metadata": {},
   "outputs": [
    {
     "name": "stdout",
     "output_type": "stream",
     "text": [
      "UTILIZATOR:\n",
      "Cum pot obtine credite suplimentare?\n",
      "------------------------------------------------------------------------------------------------------------------------\n",
      "ASISTENT:\n",
      "În cadrul Universității Politehnica București, conform Legii finanțelor publice nr. 500/2002, art. 22, ordonatorii de\n",
      "credite răspund de angajarea, lichidarea și ordonanțarea cheltuielilor în limita creditelor bugetare repartizate și\n",
      "aprobate. Pentru a obține credite suplimentare, trebuie să te adresezi ordonatorului de credite (conform procedurilor\n",
      "interne stabilite în instituție) și să justifici necesitatea suplimentării creditului bugetar solicitat. Este important\n",
      "să respecți normele și procedurile legale în vigoare pentru obținerea acestor credite suplimentare.\n",
      "\n",
      "Surse:\n",
      "-\n",
      "Procedura-de-desemnare-a-autoritatii-ierarhiilor-de-autorizare-de-limitare-a-autoritatii-si-a-relatiilor-de-raportare-in-cadrul-DFC.pdf:\n",
      "https://upb.ro/wp-content/uploads/2017/11/Procedura-de-desemnare-a-autoritatii-ierarhiilor-de-autorizare-de-limitare-a-autoritatii-si-a-relatiilor-de-raportare-in-cadrul-DFC.pdf\n",
      "------------------------------------------------------------------------------------------------------------------------\n",
      "UTILIZATOR:\n",
      "Cum pot obține bursă la facultate?\n",
      "------------------------------------------------------------------------------------------------------------------------\n",
      "ASISTENT:\n",
      "În cadrul Universității Politehnica București, pentru a obține o bursă la facultate, trebuie să te informezi asupra\n",
      "criteriilor și procedurilor specifice fiecărei categorii de burse disponibile în instituție. Aceste criterii pot include\n",
      "performanțe academice deosebite, situația materială a solicitantului, implicarea în activități extracurriculare etc.\n",
      "Poți accesa informații detaliate referitoare la bursele oferite la UPB consultând pagina web a universității sau\n",
      "contactând direcția responsabilă de gestionarea bursei.\n",
      "\n",
      "Surse:\n",
      "-\n",
      "Procedura-de-desemnare-a-autoritatii-ierarhiilor-de-autorizare-de-limitare-a-autoritatii-si-a-relatiilor-de-raportare-in-cadrul-DFC.pdf:\n",
      "https://upb.ro/wp-content/uploads/2017/11/Procedura-de-desemnare-a-autoritatii-ierarhiilor-de-autorizare-de-limitare-a-autoritatii-si-a-relatiilor-de-raportare-in-cadrul-DFC.pdf\n",
      "------------------------------------------------------------------------------------------------------------------------\n",
      "UTILIZATOR:\n",
      "Ce valoare are?\n",
      "------------------------------------------------------------------------------------------------------------------------\n",
      "ASISTENT:\n",
      "Nu pot oferi un răspuns detaliat la întrebarea ta, deoarece valoarea specificată nu este clară în contextul conversației\n",
      "sau din documentele relevante. Te rog să furnizezi mai multe informații sau să reformulezi întrebarea pentru a putea\n",
      "oferi un răspuns adecvat.\n",
      "------------------------------------------------------------------------------------------------------------------------\n"
     ]
    }
   ],
   "source": [
    "chatbot.run(\"Ce valoare are?\")\n",
    "chatbot._print_conversation_history()"
   ]
  },
  {
   "cell_type": "code",
   "execution_count": 11,
   "metadata": {},
   "outputs": [
    {
     "name": "stdout",
     "output_type": "stream",
     "text": [
      "Utilizator: Cum pot obtine credite suplimentare?\n",
      "Asistent: În cadrul Universității Politehnica București, conform Legii finanțelor publice nr. 500/2002, art. 22, ordonatorii de credite răspund de angajarea, lichidarea și ordonanțarea cheltuielilor în limita creditelor bugetare repartizate și aprobate. Pentru a obține credite suplimentare, trebuie să te adresezi ordonatorului de credite (conform procedurilor interne stabilite în instituție) și să justifici necesitatea suplimentării creditului bugetar solicitat. Este important să respecți normele și procedurile legale în vigoare pentru obținerea acestor credite suplimentare.\n",
      "\n",
      "Surse:\n",
      "- Procedura-de-desemnare-a-autoritatii-ierarhiilor-de-autorizare-de-limitare-a-autoritatii-si-a-relatiilor-de-raportare-in-cadrul-DFC.pdf: https://upb.ro/wp-content/uploads/2017/11/Procedura-de-desemnare-a-autoritatii-ierarhiilor-de-autorizare-de-limitare-a-autoritatii-si-a-relatiilor-de-raportare-in-cadrul-DFC.pdf\n",
      "Utilizator: Cum pot obține bursă la facultate?\n",
      "Asistent: În cadrul Universității Politehnica București, pentru a obține o bursă la facultate, trebuie să te informezi asupra criteriilor și procedurilor specifice fiecărei categorii de burse disponibile în instituție. Aceste criterii pot include performanțe academice deosebite, situația materială a solicitantului, implicarea în activități extracurriculare etc. Poți accesa informații detaliate referitoare la bursele oferite la UPB consultând pagina web a universității sau contactând direcția responsabilă de gestionarea bursei.\n",
      "\n",
      "Surse:\n",
      "- Procedura-de-desemnare-a-autoritatii-ierarhiilor-de-autorizare-de-limitare-a-autoritatii-si-a-relatiilor-de-raportare-in-cadrul-DFC.pdf: https://upb.ro/wp-content/uploads/2017/11/Procedura-de-desemnare-a-autoritatii-ierarhiilor-de-autorizare-de-limitare-a-autoritatii-si-a-relatiilor-de-raportare-in-cadrul-DFC.pdf\n"
     ]
    }
   ],
   "source": [
    "print(chatbot.state[\"conversation_text\"])"
   ]
  },
  {
   "cell_type": "code",
   "execution_count": null,
   "metadata": {},
   "outputs": [],
   "source": []
  }
 ],
 "metadata": {
  "kernelspec": {
   "display_name": "env",
   "language": "python",
   "name": "python3"
  },
  "language_info": {
   "codemirror_mode": {
    "name": "ipython",
    "version": 3
   },
   "file_extension": ".py",
   "mimetype": "text/x-python",
   "name": "python",
   "nbconvert_exporter": "python",
   "pygments_lexer": "ipython3",
   "version": "3.12.9"
  }
 },
 "nbformat": 4,
 "nbformat_minor": 2
}
