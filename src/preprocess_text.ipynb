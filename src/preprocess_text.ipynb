{
 "cells": [
  {
   "cell_type": "code",
   "execution_count": 15,
   "metadata": {},
   "outputs": [
    {
     "name": "stdout",
     "output_type": "stream",
     "text": [
      "Requirement already satisfied: tqdm in /home/ana/ACS/rag/env/lib/python3.12/site-packages (4.67.1)\n"
     ]
    }
   ],
   "source": [
    "# !pip install tqdm"
   ]
  },
  {
   "cell_type": "code",
   "execution_count": 1,
   "metadata": {},
   "outputs": [],
   "source": [
    "import re\n",
    "import os\n",
    "import ocrmypdf\n",
    "from pathlib import Path\n",
    "import pymupdf\n",
    "import torch\n",
    "import spacy\n",
    "from tqdm.auto import tqdm\n",
    "\n",
    "import json\n",
    "import urllib.parse\n",
    "import hashlib\n",
    "import itertools"
   ]
  },
  {
   "cell_type": "code",
   "execution_count": 2,
   "metadata": {},
   "outputs": [],
   "source": [
    "# manually trigger garbage collection to free up memory\n",
    "# import gc\n",
    "# gc.collect()"
   ]
  },
  {
   "cell_type": "code",
   "execution_count": 3,
   "metadata": {},
   "outputs": [
    {
     "name": "stdout",
     "output_type": "stream",
     "text": [
      "Running code @ cuda\n"
     ]
    }
   ],
   "source": [
    "# Run on GPU if available\n",
    "device = torch.device(\"cuda\" if torch.cuda.is_available() else \"cpu\")\n",
    "print(f'Running code @ {device}')"
   ]
  },
  {
   "cell_type": "code",
   "execution_count": 4,
   "metadata": {},
   "outputs": [],
   "source": [
    "CACHE_MODELS_DIR = '../models'\n",
    "\n",
    "DATA_DIR = \"../data/\"\n",
    "OCR_DIR = \"../data/_ocr\"\n",
    "\n",
    "os.makedirs(OCR_DIR, exist_ok=True)"
   ]
  },
  {
   "cell_type": "markdown",
   "metadata": {},
   "source": [
    "#### Parse PDF, split text into chunks"
   ]
  },
  {
   "cell_type": "markdown",
   "metadata": {},
   "source": [
    "Load spaCy language model for Romanian"
   ]
  },
  {
   "cell_type": "code",
   "execution_count": 5,
   "metadata": {},
   "outputs": [],
   "source": [
    "# load the pre-trained spacy language model \"ro_core_news_lg\"\n",
    "nlp = spacy.load(\"ro_core_news_lg\")"
   ]
  },
  {
   "cell_type": "markdown",
   "metadata": {},
   "source": [
    "Cleanup text"
   ]
  },
  {
   "cell_type": "code",
   "execution_count": 6,
   "metadata": {},
   "outputs": [],
   "source": [
    "def cleanup_text(text: str) -> str:\n",
    "    # remove extra whitespace\n",
    "    text = re.sub(r'\\s+', ' ', text).strip()\n",
    "\n",
    "    # # convert to lowercase\n",
    "    # text = text.lower()\n",
    "\n",
    "    # clean up table of contents \n",
    "    text = re.sub(r'\\.{4,}\\s*\\d+', '', text).strip()\n",
    "\n",
    "    return text"
   ]
  },
  {
   "cell_type": "markdown",
   "metadata": {},
   "source": [
    "Parse PDF"
   ]
  },
  {
   "cell_type": "code",
   "execution_count": 7,
   "metadata": {},
   "outputs": [],
   "source": [
    "def parse_pdf(pdf_path: str, url: str) -> dict:\n",
    "    assert os.path.exists(pdf_path), f'Path {pdf_path} not found'\n",
    "\n",
    "    # decode percent-encoded/URL-encoded filename -> get diacritics\n",
    "    filename = urllib.parse.unquote(pdf_path.split('/')[-1])\n",
    "\n",
    "    document = pymupdf.open(pdf_path, filetype=\"pdf\")\n",
    "    data = {\n",
    "        \"filename\": filename,\n",
    "        \"path\": pdf_path,\n",
    "        \"url\": url,\n",
    "        \"sentences\": [],\n",
    "    }\n",
    "\n",
    "    for page_number, page in enumerate(document):\n",
    "        text = cleanup_text(page.get_text())\n",
    "\n",
    "        doc = nlp(text)\n",
    "\n",
    "        data[\"sentences\"].extend([\n",
    "            {\n",
    "                \"page_number\": page_number + 1,\n",
    "                \"text\": str(sentence)\n",
    "            }\n",
    "            for sentence in doc.sents\n",
    "        ])\n",
    "    \n",
    "    return data"
   ]
  },
  {
   "cell_type": "code",
   "execution_count": 8,
   "metadata": {},
   "outputs": [],
   "source": [
    "def pdf_needs_ocr(pdf_path):\n",
    "    doc = pymupdf.open(pdf_path)\n",
    "\n",
    "    return not any([page.get_text().strip() for page in doc])\n",
    "\n",
    "\n",
    "def apply_ocr(pdf_path: str) -> str:\n",
    "    \"\"\"\n",
    "    Check if document needs OCR, use ocrmypdf.\n",
    "    \"\"\"\n",
    "\n",
    "    if pdf_needs_ocr(pdf_path):\n",
    "        filename = pdf_path.split(\"/\")[-1]\n",
    "        dir = os.path.join(OCR_DIR, pdf_path.split(\"/\")[-2])\n",
    "        output_pdf_path = os.path.join(dir, filename)\n",
    "\n",
    "        os.makedirs(dir, exist_ok=True)\n",
    "\n",
    "        if os.path.exists(output_pdf_path):\n",
    "            return output_pdf_path\n",
    "\n",
    "        ocrmypdf.ocr(\n",
    "            input_file=pdf_path,\n",
    "            output_file=output_pdf_path,\n",
    "            output_type=\"pdf\",\n",
    "            language=\"ron\",\n",
    "            deskew=True,\n",
    "            rotate_pages=True,\n",
    "            progress_bar=True,\n",
    "            jobs=4,\n",
    "        )\n",
    "\n",
    "        return output_pdf_path\n",
    "\n",
    "    return pdf_path"
   ]
  },
  {
   "cell_type": "code",
   "execution_count": 9,
   "metadata": {},
   "outputs": [],
   "source": [
    "def get_hash(string: str) -> int:\n",
    "    return hashlib.sha256(string.encode('utf-8')).hexdigest()\n",
    "\n",
    "def get_id(url: str, chunk_number: int) -> str:\n",
    "    hash = get_hash(url)\n",
    "    return f'{hash}-{chunk_number}'"
   ]
  },
  {
   "cell_type": "code",
   "execution_count": 10,
   "metadata": {},
   "outputs": [],
   "source": [
    "def split_text_into_chunks(data, max_length=1024):\n",
    "    paragraphs = []\n",
    "\n",
    "    current_paragraph = []\n",
    "    page_number = 1\n",
    "    length = 0\n",
    "    chunk_number = 1\n",
    "\n",
    "    for sentence in data[\"sentences\"]:\n",
    "        if length + len(sentence[\"text\"]) > max_length:\n",
    "            paragraphs.append({\n",
    "                \"id\": get_id(data[\"url\"], chunk_number),\n",
    "                \"text\": \" \".join(current_paragraph),\n",
    "                \"url\": data[\"url\"],\n",
    "                \"type\": \"pdf\",\n",
    "                \"filename\": data[\"filename\"],\n",
    "                \"page_number\": page_number,\n",
    "            })\n",
    "            current_paragraph.clear()\n",
    "            page_number = sentence[\"page_number\"]\n",
    "            length = 0\n",
    "            chunk_number += 1\n",
    "        \n",
    "        current_paragraph.append(sentence[\"text\"])\n",
    "        length += len(sentence[\"text\"])\n",
    "    \n",
    "    if current_paragraph:\n",
    "        paragraphs.append({\n",
    "            \"id\": get_id(data[\"url\"], chunk_number),\n",
    "            \"text\": \" \".join(current_paragraph),\n",
    "            \"url\": data[\"url\"],\n",
    "            \"type\": \"pdf\",\n",
    "            \"filename\": data[\"filename\"],\n",
    "            \"page_number\": page_number,\n",
    "        })\n",
    "\n",
    "    return paragraphs"
   ]
  },
  {
   "cell_type": "code",
   "execution_count": 11,
   "metadata": {},
   "outputs": [],
   "source": [
    "def get_directories(path: str) -> list[str]:\n",
    "    return sorted([\n",
    "        d.name\n",
    "        for d in Path(path).iterdir()\n",
    "        if d.is_dir() and d.name != OCR_DIR.split(\"/\")[-1]\n",
    "    ])\n",
    "\n",
    "\n",
    "def get_files_by_extension(path: str, extension: str) -> list[str]:\n",
    "    return sorted([f.name for f in Path(path).glob(f\"*{extension}\")])\n",
    "\n",
    "def read_metadata(metadata_filepath: str) -> dict:\n",
    "    with open(metadata_filepath, \"r\") as jsonFile:\n",
    "        try:\n",
    "            data = json.load(jsonFile)\n",
    "        except:\n",
    "            data = {}\n",
    "\n",
    "    return data"
   ]
  },
  {
   "cell_type": "markdown",
   "metadata": {},
   "source": [
    "## Ingest data into OpenSearch"
   ]
  },
  {
   "cell_type": "code",
   "execution_count": 12,
   "metadata": {},
   "outputs": [],
   "source": [
    "from opensearchpy import OpenSearch, helpers"
   ]
  },
  {
   "cell_type": "code",
   "execution_count": 13,
   "metadata": {},
   "outputs": [],
   "source": [
    "ADMIN_PASSWD = os.environ['OPENSEARCH_INITIAL_ADMIN_PASSWORD']\n",
    "\n",
    "INDEX_NAME = 'rag-knn-index'"
   ]
  },
  {
   "cell_type": "code",
   "execution_count": 14,
   "metadata": {},
   "outputs": [
    {
     "name": "stdout",
     "output_type": "stream",
     "text": [
      "{'name': 'opensearch-node1', 'cluster_name': 'opensearch-cluster', 'cluster_uuid': 'EHUZvucsS9-zBGlgZhAmCA', 'version': {'distribution': 'opensearch', 'number': '2.19.1', 'build_type': 'tar', 'build_hash': '2e4741fb45d1b150aaeeadf66d41445b23ff5982', 'build_date': '2025-02-27T01:16:47.726162386Z', 'build_snapshot': False, 'lucene_version': '9.12.1', 'minimum_wire_compatibility_version': '7.10.0', 'minimum_index_compatibility_version': '7.0.0'}, 'tagline': 'The OpenSearch Project: https://opensearch.org/'}\n"
     ]
    }
   ],
   "source": [
    "host = 'localhost'\n",
    "port = 9200\n",
    "\n",
    "# Create the client with SSL/TLS and hostname verification disabled.\n",
    "client = OpenSearch(\n",
    "    hosts = [{'host': host, 'port': port}],\n",
    "    http_compress = True, # enables gzip compression for request bodies\n",
    "    http_auth = ('admin', ADMIN_PASSWD),\n",
    "    use_ssl = True,\n",
    "    verify_certs = False,\n",
    "    ssl_assert_hostname = False,\n",
    "    ssl_show_warn = False,\n",
    ")\n",
    "\n",
    "print(client.info())"
   ]
  },
  {
   "cell_type": "code",
   "execution_count": 15,
   "metadata": {},
   "outputs": [
    {
     "name": "stdout",
     "output_type": "stream",
     "text": [
      "[(True, {'index': {'_index': 'rag-knn-index', '_id': 'fab2ac7fe58ff17b51af9bdd7be38904e3a4f541961db7da0259d45ceebee82e-1', '_version': 4, 'result': 'updated', '_shards': {'total': 2, 'successful': 2, 'failed': 0}, '_seq_no': 77, '_primary_term': 1, 'status': 200}}), (True, {'index': {'_index': 'rag-knn-index', '_id': 'fab2ac7fe58ff17b51af9bdd7be38904e3a4f541961db7da0259d45ceebee82e-2', '_version': 4, 'result': 'updated', '_shards': {'total': 2, 'successful': 2, 'failed': 0}, '_seq_no': 79, '_primary_term': 1, 'status': 200}}), (True, {'index': {'_index': 'rag-knn-index', '_id': 'fab2ac7fe58ff17b51af9bdd7be38904e3a4f541961db7da0259d45ceebee82e-3', '_version': 4, 'result': 'updated', '_shards': {'total': 2, 'successful': 2, 'failed': 0}, '_seq_no': 81, '_primary_term': 1, 'status': 200}}), (True, {'index': {'_index': 'rag-knn-index', '_id': 'fab2ac7fe58ff17b51af9bdd7be38904e3a4f541961db7da0259d45ceebee82e-4', '_version': 4, 'result': 'updated', '_shards': {'total': 2, 'successful': 2, 'failed': 0}, '_seq_no': 82, '_primary_term': 1, 'status': 200}}), (True, {'index': {'_index': 'rag-knn-index', '_id': 'fab2ac7fe58ff17b51af9bdd7be38904e3a4f541961db7da0259d45ceebee82e-5', '_version': 4, 'result': 'updated', '_shards': {'total': 2, 'successful': 2, 'failed': 0}, '_seq_no': 83, '_primary_term': 1, 'status': 200}}), (True, {'index': {'_index': 'rag-knn-index', '_id': 'fab2ac7fe58ff17b51af9bdd7be38904e3a4f541961db7da0259d45ceebee82e-6', '_version': 4, 'result': 'updated', '_shards': {'total': 2, 'successful': 2, 'failed': 0}, '_seq_no': 85, '_primary_term': 1, 'status': 200}}), (True, {'index': {'_index': 'rag-knn-index', '_id': 'fab2ac7fe58ff17b51af9bdd7be38904e3a4f541961db7da0259d45ceebee82e-7', '_version': 4, 'result': 'updated', '_shards': {'total': 2, 'successful': 2, 'failed': 0}, '_seq_no': 87, '_primary_term': 1, 'status': 200}}), (True, {'index': {'_index': 'rag-knn-index', '_id': 'fab2ac7fe58ff17b51af9bdd7be38904e3a4f541961db7da0259d45ceebee82e-8', '_version': 4, 'result': 'updated', '_shards': {'total': 2, 'successful': 2, 'failed': 0}, '_seq_no': 89, '_primary_term': 1, 'status': 200}}), (True, {'index': {'_index': 'rag-knn-index', '_id': 'fab2ac7fe58ff17b51af9bdd7be38904e3a4f541961db7da0259d45ceebee82e-9', '_version': 4, 'result': 'updated', '_shards': {'total': 2, 'successful': 2, 'failed': 0}, '_seq_no': 90, '_primary_term': 1, 'status': 200}}), (True, {'index': {'_index': 'rag-knn-index', '_id': 'fab2ac7fe58ff17b51af9bdd7be38904e3a4f541961db7da0259d45ceebee82e-10', '_version': 4, 'result': 'updated', '_shards': {'total': 2, 'successful': 2, 'failed': 0}, '_seq_no': 92, '_primary_term': 1, 'status': 200}}), (True, {'index': {'_index': 'rag-knn-index', '_id': 'fab2ac7fe58ff17b51af9bdd7be38904e3a4f541961db7da0259d45ceebee82e-11', '_version': 4, 'result': 'updated', '_shards': {'total': 2, 'successful': 2, 'failed': 0}, '_seq_no': 76, '_primary_term': 1, 'status': 200}}), (True, {'index': {'_index': 'rag-knn-index', '_id': 'fab2ac7fe58ff17b51af9bdd7be38904e3a4f541961db7da0259d45ceebee82e-12', '_version': 4, 'result': 'updated', '_shards': {'total': 2, 'successful': 2, 'failed': 0}, '_seq_no': 78, '_primary_term': 1, 'status': 200}}), (True, {'index': {'_index': 'rag-knn-index', '_id': 'fab2ac7fe58ff17b51af9bdd7be38904e3a4f541961db7da0259d45ceebee82e-13', '_version': 4, 'result': 'updated', '_shards': {'total': 2, 'successful': 2, 'failed': 0}, '_seq_no': 80, '_primary_term': 1, 'status': 200}}), (True, {'index': {'_index': 'rag-knn-index', '_id': 'fab2ac7fe58ff17b51af9bdd7be38904e3a4f541961db7da0259d45ceebee82e-14', '_version': 4, 'result': 'updated', '_shards': {'total': 2, 'successful': 2, 'failed': 0}, '_seq_no': 84, '_primary_term': 1, 'status': 200}}), (True, {'index': {'_index': 'rag-knn-index', '_id': 'fab2ac7fe58ff17b51af9bdd7be38904e3a4f541961db7da0259d45ceebee82e-15', '_version': 4, 'result': 'updated', '_shards': {'total': 2, 'successful': 2, 'failed': 0}, '_seq_no': 86, '_primary_term': 1, 'status': 200}}), (True, {'index': {'_index': 'rag-knn-index', '_id': 'fab2ac7fe58ff17b51af9bdd7be38904e3a4f541961db7da0259d45ceebee82e-16', '_version': 4, 'result': 'updated', '_shards': {'total': 2, 'successful': 2, 'failed': 0}, '_seq_no': 88, '_primary_term': 1, 'status': 200}}), (True, {'index': {'_index': 'rag-knn-index', '_id': 'fab2ac7fe58ff17b51af9bdd7be38904e3a4f541961db7da0259d45ceebee82e-17', '_version': 4, 'result': 'updated', '_shards': {'total': 2, 'successful': 2, 'failed': 0}, '_seq_no': 91, '_primary_term': 1, 'status': 200}}), (True, {'index': {'_index': 'rag-knn-index', '_id': 'fab2ac7fe58ff17b51af9bdd7be38904e3a4f541961db7da0259d45ceebee82e-18', '_version': 4, 'result': 'updated', '_shards': {'total': 2, 'successful': 2, 'failed': 0}, '_seq_no': 93, '_primary_term': 1, 'status': 200}}), (True, {'index': {'_index': 'rag-knn-index', '_id': 'fab2ac7fe58ff17b51af9bdd7be38904e3a4f541961db7da0259d45ceebee82e-19', '_version': 4, 'result': 'updated', '_shards': {'total': 2, 'successful': 2, 'failed': 0}, '_seq_no': 94, '_primary_term': 1, 'status': 200}})]\n"
     ]
    }
   ],
   "source": [
    "def process_pdfs(path=DATA_DIR) -> None:\n",
    "    directories = get_directories(path)\n",
    "\n",
    "    for directory in directories:\n",
    "        pdfs = get_files_by_extension(path=os.path.join(DATA_DIR, directory), extension=\".pdf\")\n",
    "\n",
    "        metadata_filepath = os.path.join(path, directory, \"metadata.json\")\n",
    "        metadata = read_metadata(metadata_filepath)\n",
    "\n",
    "        for filename in pdfs[:1]:\n",
    "            pdf_path = os.path.join(DATA_DIR, directory, filename)\n",
    "            pdf_path = apply_ocr(pdf_path)\n",
    "\n",
    "            data = parse_pdf(pdf_path=pdf_path, url=metadata[filename][\"url\"])\n",
    "\n",
    "            paragraphs = split_text_into_chunks(data)\n",
    "\n",
    "            entries = [\n",
    "                {\"_index\": INDEX_NAME, \"_id\": paragraph[\"id\"]} | paragraph\n",
    "                for paragraph in paragraphs\n",
    "            ]\n",
    "\n",
    "            # print(entries)\n",
    "\n",
    "            # client.bulk(entries) \n",
    "\n",
    "            ret = helpers.parallel_bulk(\n",
    "                client, \n",
    "                actions=entries, \n",
    "                chunk_size=10, \n",
    "                raise_on_error=False,\n",
    "                raise_on_exception=False,\n",
    "                max_chunk_bytes=20 * 1024 * 1024,\n",
    "                request_timeout=60\n",
    "            )\n",
    "\n",
    "            print(list(ret))\n",
    "\n",
    "            # for paragraph in paragraphs[:10]:\n",
    "            #     print(paragraph)\n",
    "\n",
    "process_pdfs()"
   ]
  },
  {
   "cell_type": "markdown",
   "metadata": {},
   "source": [
    "### Search data"
   ]
  },
  {
   "cell_type": "code",
   "execution_count": null,
   "metadata": {},
   "outputs": [],
   "source": [
    "q = \"atributii responsabili de proces\"\n",
    "query = {\n",
    "  'size': 5,\n",
    "  'query': {\n",
    "    'multi_match': {\n",
    "      'query': q,\n",
    "      'fields': ['title^2', 'director']\n",
    "    }\n",
    "  }\n",
    "}\n",
    "\n",
    "query = {\n",
    "    \"size\": 3,\n",
    "    \"query\": {\n",
    "      \"neural\": {\n",
    "        \"passage_embedding\": {\n",
    "          \"query_text\": \"wild west\",\n",
    "          \"model_id\": \"aVeif4oB5Vm0Tdw8zYO2\",\n",
    "          \"k\": 3\n",
    "        }\n",
    "      }\n",
    "  }\n",
    "}\n",
    "\n",
    "response = client.search(\n",
    "    body = query,\n",
    "    index = 'python-test-index'\n",
    ")\n",
    "\n"
   ]
  },
  {
   "cell_type": "markdown",
   "metadata": {},
   "source": [
    "#### Convert text chunks into embeddings"
   ]
  },
  {
   "cell_type": "code",
   "execution_count": 22,
   "metadata": {},
   "outputs": [],
   "source": [
    "from sentence_transformers import SentenceTransformer\n",
    "from sentence_transformers import util"
   ]
  },
  {
   "cell_type": "code",
   "execution_count": 23,
   "metadata": {},
   "outputs": [],
   "source": [
    "sentenceTransformer = SentenceTransformer('paraphrase-multilingual-MiniLM-L12-v2', device=device, cache_folder=CACHE_MODELS_DIR)"
   ]
  },
  {
   "cell_type": "code",
   "execution_count": 20,
   "metadata": {},
   "outputs": [
    {
     "name": "stderr",
     "output_type": "stream",
     "text": [
      "100%|██████████| 136/136 [00:03<00:00, 34.40it/s]\n"
     ]
    }
   ],
   "source": [
    "# for paragraph in tqdm(paragraphs):\n",
    "#     paragraph[\"embedding\"] = sentenceTransformer.encode(paragraph[\"text\"])"
   ]
  },
  {
   "cell_type": "markdown",
   "metadata": {},
   "source": [
    "Gather all embeddings in a list"
   ]
  },
  {
   "cell_type": "code",
   "execution_count": 21,
   "metadata": {},
   "outputs": [
    {
     "name": "stderr",
     "output_type": "stream",
     "text": [
      "/tmp/ipykernel_5061/13127218.py:1: UserWarning: Creating a tensor from a list of numpy.ndarrays is extremely slow. Please consider converting the list to a single numpy.ndarray with numpy.array() before converting to a tensor. (Triggered internally at /pytorch/torch/csrc/utils/tensor_new.cpp:254.)\n",
      "  embeddings = torch.tensor([paragraph[\"embedding\"] for paragraph in paragraphs], dtype=torch.float32).to(device)\n"
     ]
    },
    {
     "name": "stdout",
     "output_type": "stream",
     "text": [
      "torch.Size([136, 384])\n",
      "tensor([ 9.8783e-03,  2.9938e-02,  2.7943e-02,  1.2135e-01,  3.0623e-01,\n",
      "         2.2634e-02, -1.0914e-01,  1.0262e-01,  4.0146e-02,  3.0064e-01,\n",
      "         1.3308e-01, -3.7265e-02, -1.1835e-01, -8.7284e-02,  4.8206e-02,\n",
      "        -2.8350e-01, -2.4382e-02, -8.7573e-03,  4.1828e-03,  3.5061e-02,\n",
      "         1.8099e-01, -8.6560e-02, -9.1597e-02, -8.3297e-02, -9.6350e-02,\n",
      "        -3.0929e-02, -1.8263e-01, -1.2197e-01,  6.6347e-02, -2.6500e-01,\n",
      "        -1.2819e-01, -1.4886e-01,  1.5344e-02,  2.9629e-02,  3.9443e-02,\n",
      "        -2.0101e-01,  2.9665e-01, -1.2701e-01,  1.1908e-01,  9.2523e-02,\n",
      "        -1.1162e-01, -1.9433e-01,  2.0070e-02,  4.4440e-02, -5.3649e-02,\n",
      "         6.4577e-03,  3.6158e-03, -2.7815e-01, -3.3069e-01, -1.1631e-01,\n",
      "         1.8867e-01,  1.3103e-01,  6.2358e-02,  5.7047e-02,  8.3440e-02,\n",
      "        -2.4264e-01,  2.2108e-01,  1.8483e-01, -1.3591e-02,  1.4099e-01,\n",
      "         1.2060e-01,  1.4782e-01, -3.3231e-01,  1.0026e-01, -4.6992e-02,\n",
      "        -2.2982e-02, -5.7575e-02,  7.7601e-02,  1.0100e-01, -7.3806e-02,\n",
      "        -1.7307e-01, -4.8701e-02, -2.3730e-01, -1.9558e-01,  7.6047e-02,\n",
      "         2.7431e-01,  1.1992e-01,  1.5118e-01,  1.6351e-01, -1.4130e-01,\n",
      "         4.5380e-02,  2.7340e-02,  1.1004e-01,  2.3668e-01, -3.7076e-02,\n",
      "         1.3386e-01,  8.5174e-02,  4.8193e-02,  7.2087e-02,  5.0093e-02,\n",
      "         6.7186e-02, -9.1128e-02,  3.3643e-01,  8.6200e-02,  1.0821e-01,\n",
      "         1.7712e-01, -2.4394e-01, -6.1104e-02,  5.8982e-02,  2.5585e-01,\n",
      "        -1.3532e-01,  8.9995e-02, -2.9756e-01,  1.6103e-01,  9.2507e-02,\n",
      "        -1.2267e-02,  2.8413e-01, -3.1222e-01,  1.8303e-02,  5.9676e-02,\n",
      "         3.2196e-02, -5.8049e-02, -2.2123e-01, -2.0087e-01,  2.4386e-02,\n",
      "         1.6411e-01, -6.6303e-03,  1.1543e-01,  2.0916e-01,  7.2128e-02,\n",
      "        -8.3451e-02, -7.3886e-02,  1.1876e-01, -3.3584e-01,  2.0510e-01,\n",
      "        -1.0339e-01,  1.7107e-01, -1.6230e-01, -2.5442e-01, -2.1206e-01,\n",
      "         7.2380e-03,  6.4566e-02, -1.3009e-01,  6.5960e-02,  1.6166e-03,\n",
      "         7.1656e-02,  1.1524e-02,  3.6278e-02,  8.5128e-02,  2.5980e-01,\n",
      "         1.2402e-01,  6.5984e-02,  8.5484e-02,  1.2165e-01,  2.6088e-01,\n",
      "         9.0588e-02,  6.0106e-02,  5.1879e-02,  1.7406e-01, -7.0985e-04,\n",
      "         3.2332e-02, -2.0479e-02,  2.9370e-01,  1.1197e-01, -1.5021e-01,\n",
      "         1.1664e-03,  1.5920e-01,  1.9978e-02,  2.6504e-01, -6.8400e-03,\n",
      "        -1.7601e-01,  1.1994e-01,  1.5230e-01,  2.0855e-03, -2.2320e-02,\n",
      "        -1.8479e-01, -3.5729e-02, -8.8200e-02, -2.4147e-01,  1.3660e-01,\n",
      "        -3.4043e-02,  1.1027e-01,  1.6195e-01, -1.8191e-01,  1.0970e-02,\n",
      "        -1.0614e-01,  1.5234e-01,  5.6872e-02, -2.2269e-01,  1.0858e-01,\n",
      "        -6.2864e-02, -2.8263e-01, -9.1659e-02, -1.2786e-01, -6.0044e-02,\n",
      "         4.1805e-02,  6.0405e-02, -1.7617e-01,  2.1225e-02,  2.1042e-01,\n",
      "        -2.6693e-01, -3.6486e-03,  1.5058e-01,  1.6113e-01, -1.8113e-01,\n",
      "        -1.4244e-01,  6.4261e-02, -5.6831e-01, -2.3019e-01,  1.5659e-01,\n",
      "        -2.5480e-01,  1.4770e-01, -8.2684e-03,  1.0820e-02,  1.2103e-02,\n",
      "        -6.5094e-02, -3.7481e-02, -1.3607e-01, -6.3140e-03, -1.4548e-01,\n",
      "        -1.0651e-02, -7.1284e-03, -5.1031e-02, -2.4368e-01,  1.6283e-01,\n",
      "         1.1280e-01,  1.1776e-01,  9.9891e-02, -3.6757e-02,  3.2614e-02,\n",
      "         8.0968e-02,  2.8737e-01,  1.3209e-01, -2.2791e-01, -9.4421e-02,\n",
      "         1.3129e-01, -1.8617e-01, -1.8755e-01,  6.4620e-03,  1.3562e-01,\n",
      "        -1.8414e-01, -2.6731e-01,  7.1459e-02,  1.5746e-01, -3.7071e-02,\n",
      "        -1.3913e-02,  1.3555e-01,  1.2151e-01, -1.8858e-01, -2.5622e-02,\n",
      "        -3.1843e-01, -1.5281e-01, -2.0139e-01, -7.5019e-02,  2.2898e-02,\n",
      "         8.7656e-02, -7.1819e-02,  5.8438e-02, -2.4839e-01,  1.6197e-01,\n",
      "        -1.4676e-01, -1.4327e-01,  1.2918e-01,  9.8031e-02,  5.6739e-02,\n",
      "         1.3956e-01, -2.3830e-01,  1.3354e-01, -7.0695e-02, -4.2524e-01,\n",
      "         7.4957e-02, -7.9680e-02,  1.6368e-02,  1.3095e-01,  3.1047e-01,\n",
      "        -6.3112e-02,  9.3556e-02,  1.1024e-01, -2.2703e-01,  3.6223e-02,\n",
      "         5.1160e-02, -4.0977e-01, -1.0481e-01, -1.3649e-02,  1.1267e-01,\n",
      "        -1.2149e-01, -1.4076e-02,  3.3759e-02,  2.3208e-02,  1.9499e-01,\n",
      "         1.5759e-01, -9.8141e-02, -5.1514e-02, -6.8114e-02,  2.5465e-01,\n",
      "         1.9199e-01, -4.4092e-02,  1.2247e-01, -4.1737e-02,  1.3884e-01,\n",
      "        -9.6721e-02, -3.0140e-02,  1.8378e-01, -1.9388e-01,  1.1355e-01,\n",
      "        -1.3633e-02, -1.7297e-01, -2.7686e-01, -2.8584e-01, -1.3781e-01,\n",
      "         1.6770e-01,  7.9429e-02, -8.6196e-02, -6.2011e-02, -3.4957e-02,\n",
      "        -5.5766e-02, -5.0581e-02, -1.1946e-02,  6.1947e-02, -2.4493e-02,\n",
      "         4.1502e-01, -7.6534e-02,  2.1234e-01, -6.2239e-02, -1.5832e-01,\n",
      "        -1.0287e-01, -1.2126e-01, -6.6868e-02, -1.2294e-02, -2.2927e-01,\n",
      "        -1.8774e-02, -4.1468e-02, -3.2767e-02,  4.7217e-02,  3.0886e-02,\n",
      "         4.6195e-02, -3.6735e-01,  1.1303e-02, -3.0289e-02,  1.2395e-01,\n",
      "         1.5989e-01,  1.1178e-01,  1.9096e-01, -2.6340e-01,  1.9370e-01,\n",
      "        -2.0503e-01,  1.6945e-01, -6.1487e-02,  6.5735e-02, -1.3829e-01,\n",
      "         1.3910e-01,  1.7959e-01, -5.1587e-02, -3.1150e-02, -1.2410e-01,\n",
      "        -9.1255e-03,  1.1198e-01,  1.4516e-01, -4.0265e-02,  2.0215e-01,\n",
      "        -2.2994e-02,  1.7649e-01, -6.3752e-02, -5.9081e-02, -1.2585e-01,\n",
      "         2.1040e-01,  3.9274e-02, -5.2256e-02,  5.8808e-02, -1.7234e-01,\n",
      "         6.0445e-02,  5.8882e-02,  1.3299e-01,  7.5441e-02,  8.9380e-02,\n",
      "        -3.7211e-02, -1.8217e-01,  8.2133e-02,  7.4620e-02,  1.4961e-02,\n",
      "        -9.2666e-02, -1.4566e-01,  5.6359e-02,  6.6391e-02,  3.5631e-03,\n",
      "         1.5452e-01,  1.9218e-01,  1.2050e-04, -9.3939e-02,  1.7242e-02,\n",
      "         3.9156e-02,  1.4921e-01, -9.2540e-02,  8.1937e-03], device='cuda:0')\n"
     ]
    }
   ],
   "source": [
    "# embeddings = torch.tensor([paragraph[\"embedding\"] for paragraph in paragraphs], dtype=torch.float32).to(device)\n",
    "\n",
    "# print(embeddings.shape)\n",
    "# print(embeddings[0])"
   ]
  },
  {
   "cell_type": "code",
   "execution_count": 43,
   "metadata": {},
   "outputs": [],
   "source": [
    "# def retrieve_paragraphs(query: str, k: int = 5):\n",
    "#     query_embedding = sentenceTransformer.encode(query, convert_to_tensor=True).to(\"cuda\")\n",
    "\n",
    "#     dot_scores = util.dot_score(query_embedding, embeddings)[0]\n",
    "    \n",
    "#     return torch.topk(dot_scores, k)"
   ]
  },
  {
   "cell_type": "code",
   "execution_count": 44,
   "metadata": {},
   "outputs": [],
   "source": [
    "# def print_resources(query: str, k: int = 5):\n",
    "#     scores, indices = retrieve_paragraphs(query, k)\n",
    "\n",
    "#     # print(scores, indices)\n",
    "    \n",
    "#     for score, index in zip(scores, indices):\n",
    "#         print(f\"Score: {score:.4f}\")\n",
    "#         print(f\"Page number: {paragraphs[index]['page_number']}\")\n",
    "#         print(\"Text:\")\n",
    "#         print(paragraphs[index][\"text\"])\n",
    "#         print(\"\\n\\n\")"
   ]
  },
  {
   "cell_type": "code",
   "execution_count": 30,
   "metadata": {},
   "outputs": [
    {
     "name": "stdout",
     "output_type": "stream",
     "text": [
      "tensor([ 2.2055e-01, -2.3237e-02, -2.1463e-01, -2.6294e-01,  1.3461e-01,\n",
      "        -1.8907e-01, -3.6333e-01,  1.7251e-01,  3.3091e-01,  1.6166e-01,\n",
      "        -8.1408e-02,  1.2561e-01, -3.2631e-02,  5.8751e-02,  1.2068e-01,\n",
      "        -7.1358e-02, -3.3312e-01, -2.6837e-02, -7.3834e-02,  5.4398e-01,\n",
      "         2.3019e-01, -3.3727e-01, -1.3698e-02, -4.6845e-02,  7.6915e-02,\n",
      "         1.3901e-01,  1.1419e-01, -3.4290e-01,  1.6563e-01, -3.6166e-01,\n",
      "        -1.6155e-02, -1.4223e-01,  1.1707e-01,  1.2199e-01,  1.1384e-01,\n",
      "         3.2719e-01, -6.9452e-02, -6.7544e-02,  2.5511e-01,  2.6398e-01,\n",
      "         5.5412e-02,  2.0600e-04,  3.1844e-01,  4.2523e-01,  3.0737e-01,\n",
      "        -1.1041e-01,  1.9013e-01, -1.1189e-01, -9.0982e-02, -1.7007e-01,\n",
      "         4.0972e-01,  3.7534e-02, -3.2082e-01,  4.0063e-03, -4.8830e-01,\n",
      "         2.3478e-01,  3.4153e-01,  3.1695e-01, -1.4431e-01,  7.0493e-02,\n",
      "        -2.1657e-02,  1.0048e-01, -1.5312e-01,  1.6839e-01, -3.2840e-01,\n",
      "        -3.6350e-02,  2.9040e-01,  3.0633e-01, -3.5160e-01,  1.0758e-01,\n",
      "         5.1172e-02, -2.1880e-01, -7.4217e-02, -2.8080e-01,  6.8975e-01,\n",
      "         2.2098e-01,  3.0792e-01,  6.8337e-02,  1.7819e-01,  5.7558e-02,\n",
      "         3.2890e-01, -4.0335e-01,  6.0298e-02, -2.1796e-01, -6.8195e-02,\n",
      "         4.5504e-02,  5.1888e-02, -3.6808e-02,  2.9793e-01, -1.1311e-01,\n",
      "         1.4260e-01, -1.6602e-01,  1.3223e-01, -1.0410e-01,  2.0198e-01,\n",
      "         2.7203e-01, -1.1233e-01, -1.5885e-01,  1.0177e-01,  1.1010e+00,\n",
      "        -1.4784e-01,  1.2752e-01, -9.7589e-02,  1.4833e-01,  2.5888e-02,\n",
      "        -8.5437e-02,  3.9234e-02, -1.2864e-01,  6.9396e-02,  6.8579e-02,\n",
      "         1.8483e-01,  2.2438e-01, -9.0970e-02,  8.5488e-03,  3.7065e-03,\n",
      "        -9.6516e-02, -5.2763e-02,  1.3904e-01,  5.0813e-01,  7.0336e-02,\n",
      "         4.5166e-03,  2.5077e-01, -4.0461e-02, -4.6776e-01, -3.7172e-01,\n",
      "        -7.0816e-02, -1.9537e-01,  1.9684e-01, -2.5173e-01,  1.3245e-01,\n",
      "        -2.3737e-01, -1.1682e-01, -5.0214e-01,  1.3136e-02, -9.7769e-02,\n",
      "         3.1233e-01, -1.7769e-01, -2.7250e-01,  1.1511e-02,  9.8243e-02,\n",
      "         1.0630e-01,  1.8079e-01,  3.1088e-01,  2.4171e-01,  3.7075e-02,\n",
      "         3.3486e-01,  2.9892e-01,  6.0304e-01,  2.6442e-01,  3.7317e-01,\n",
      "         7.5160e-02, -6.5283e-02,  1.8700e-02, -3.4077e-01, -2.1326e-01,\n",
      "        -1.6106e-01,  1.2548e-01,  1.6041e-02,  2.2534e-01,  1.0603e-01,\n",
      "         3.0337e-03,  8.2542e-02,  4.1522e-01,  4.3267e-01,  4.1964e-01,\n",
      "        -1.3489e-01,  2.6598e-01, -2.5547e-01, -3.0090e-01,  1.7086e-01,\n",
      "         2.3614e-01,  1.3565e-01,  4.8477e-01,  6.9709e-03,  1.7452e-01,\n",
      "        -2.5272e-01, -1.0272e-01, -2.1665e-01, -2.2684e-01, -3.4144e-01,\n",
      "        -4.9299e-01, -5.1258e-02,  3.5806e-02, -1.7470e-01,  8.1971e-02,\n",
      "         8.5384e-02, -1.6087e-01, -1.4086e-01, -1.8999e-01, -1.9316e-01,\n",
      "        -5.0954e-01,  1.7194e-01, -2.1531e-01, -1.9978e-01, -2.3224e-01,\n",
      "         1.5446e-02,  1.0958e-01, -6.9893e-01, -4.9041e-01,  2.8697e-01,\n",
      "        -2.8991e-01, -1.2102e-01, -4.0541e-01,  1.5952e-01, -2.2359e-01,\n",
      "         4.4155e-03,  1.6535e-01,  1.1712e-01,  1.3664e-01, -1.0322e-01,\n",
      "         1.0480e-01, -1.0849e-01, -3.6545e-02,  1.0014e-01,  1.9565e-01,\n",
      "        -2.2603e-02,  2.6704e-01, -2.7573e-01, -2.2236e-01, -2.9089e-01,\n",
      "         2.1758e-02,  1.3365e-01,  2.6782e-01, -2.4973e-01, -5.7872e-02,\n",
      "        -3.8322e-01, -2.2694e-01,  4.6255e-01,  2.2633e-02,  1.8711e-01,\n",
      "        -2.0547e-01,  5.0605e-02, -1.9246e-01, -2.6609e-01, -9.7844e-02,\n",
      "         3.8369e-02,  7.1125e-02,  2.6073e-01, -4.6857e-01, -3.7013e-01,\n",
      "         1.4240e-03, -1.6322e-01, -4.4484e-01, -1.4874e-01,  2.0726e-01,\n",
      "         5.1003e-02,  2.1165e-01,  2.7236e-01,  2.3182e-01, -2.0193e-02,\n",
      "        -5.6016e-01, -6.0362e-01,  1.8888e-01,  1.8869e-01,  2.5484e-01,\n",
      "         2.3751e-01, -2.7202e-01,  3.0070e-01, -1.8518e-01, -6.2602e-02,\n",
      "         4.0389e-01, -1.0726e-01, -2.2125e-01,  1.9926e-01,  2.6900e-01,\n",
      "        -1.8422e-01,  2.1696e-02,  9.4846e-02,  2.5540e-02,  2.4498e-01,\n",
      "        -1.1759e-01,  8.4320e-02,  1.1805e-01, -1.2585e-01, -1.7756e-01,\n",
      "         2.5192e-02,  1.3825e-01, -3.3290e-01,  1.3890e-01,  4.2888e-02,\n",
      "        -4.2032e-02,  4.4571e-02,  2.5150e-01,  4.7330e-01, -7.2347e-02,\n",
      "         2.8936e-01,  1.1249e-01,  1.1009e-01, -1.4344e-01,  1.1883e-02,\n",
      "        -1.6893e-01,  4.0466e-02, -6.4552e-01,  2.4744e-01,  1.8310e-01,\n",
      "         2.1086e-02, -2.0401e-01, -2.1585e-01, -3.5102e-03,  1.1311e-01,\n",
      "        -8.8916e-03, -2.0985e-01, -2.8564e-01,  2.2430e-01, -1.1639e-01,\n",
      "         4.2984e-02, -8.0058e-02,  2.6344e-01, -3.2991e-01, -9.4581e-02,\n",
      "         1.9902e-01, -1.6555e-01,  2.0211e-01, -2.3605e-01, -1.2277e-01,\n",
      "        -1.3442e-01,  2.7335e-01, -3.7164e-01,  1.3882e-01, -4.1649e-01,\n",
      "        -1.8778e-01, -1.8386e-01, -3.8457e-01,  3.5038e-01, -3.8820e-01,\n",
      "         9.4420e-02, -8.8990e-02, -2.7292e-01,  3.3108e-01, -1.1561e-01,\n",
      "        -4.3915e-02, -2.7180e-01, -4.1840e-01, -2.5126e-01,  1.5307e-02,\n",
      "         5.4956e-02, -1.5126e-01, -1.7687e-01,  1.0964e-01,  1.4275e-01,\n",
      "         4.7329e-02,  1.1445e-01,  2.6358e-02, -1.8426e-01, -1.7499e-01,\n",
      "         1.9832e-01,  7.9387e-02,  1.5015e-01,  1.3351e-01,  1.0519e-02,\n",
      "        -4.4236e-01, -1.8579e-01,  4.9213e-02, -3.3567e-01,  8.2983e-02,\n",
      "         3.4805e-01,  3.3032e-01, -1.9441e-01,  3.7241e-01,  7.2658e-02,\n",
      "        -1.0865e-01, -2.0270e-01,  8.4616e-02,  1.0907e-01,  4.2479e-01,\n",
      "         3.1010e-01, -3.7966e-02,  3.6473e-01,  2.8855e-01,  7.7791e-03,\n",
      "        -2.2628e-01, -1.9668e-04, -1.0679e-02, -8.0383e-01,  1.6953e-02,\n",
      "         2.3664e-01,  3.0516e-01, -6.0996e-02, -2.3587e-01, -1.1068e-01,\n",
      "         1.3824e-02, -7.1691e-01,  1.5697e-01,  1.5053e-01], device='cuda:0')\n"
     ]
    }
   ],
   "source": [
    "# query = \"obligatii ale universitatii\"\n",
    "\n",
    "# resources = retrieve_paragraphs(query)"
   ]
  },
  {
   "cell_type": "code",
   "execution_count": 36,
   "metadata": {},
   "outputs": [
    {
     "name": "stdout",
     "output_type": "stream",
     "text": [
      "tensor([9.1122, 8.4518, 8.0900, 7.6237, 7.3855], device='cuda:0')\n",
      "tensor([ 6,  7,  9, 75, 65], device='cuda:0')\n"
     ]
    }
   ],
   "source": [
    "# print(resources.values)\n",
    "# print(resources.indices)"
   ]
  },
  {
   "cell_type": "code",
   "execution_count": 45,
   "metadata": {},
   "outputs": [
    {
     "name": "stdout",
     "output_type": "stream",
     "text": [
      "Score: 9.1122\n",
      "Page number: 4\n",
      "Text:\n",
      "Principiile care guvernează învăţământul superior și pe baza cărora Universitatea își desfășoară activitatea sunt: a. principiul autonomiei universitare; UNIVERSITATEA POLITEHNICA DIN BUCUREȘTI Regulament Intern 5 b. principiul libertăţii academice; c. principiul răspunderii publice; d. principiul asigurării calităţii; e. principiul echităţii; f. principiul eficienţei manageriale şi financiare; g. principiul transparenţei; h. principiul respectării drepturilor şi libertăţilor studenţilor şi ale personalului academic; i. principiul independenţei de ideologii, religii şi doctrine politice; j. principiul libertăţii de mobilitate naţională şi internaţională a studenţilor, a cadrelor didactice şi a cercetătorilor; k. principiul consultării partenerilor sociali în luarea deciziilor; l. principiul centrării educaţiei pe student. Capitolul 1 Reguli privind protecţia, igiena şi securitatea în muncă în cadrul unităţii I. Obligațiile Universității 1.\n",
      "\n",
      "\n",
      "\n",
      "Score: 8.4518\n",
      "Page number: 5\n",
      "Text:\n",
      "Universitatea are obligaţia de a asigura securitatea şi sănătatea personalului angajat în toate aspectele legate de muncă. 2. Universitatea are obligaţia să ia măsurile necesare pentru: a) asigurarea securităţii şi protecţia sănătăţii personalului angajat; b) prevenirea riscurilor profesionale; c) informarea şi instruirea personalului angajat; d) asigurarea cadrului organizatoric şi a mijloacelor necesare securităţii şi sănătăţii în muncă. 3. Universitatea are obligaţia sa urmărească adaptarea măsurilor prevăzute la alin. (2), ţinând seama de modificarea condiţiilor, pentru îmbunătăţirea situaţiilor existente. 4. Universitatea are obligaţia sa implementeze măsurile prevăzute la alin. (2) respectând următoarelor principii generale de prevenire: a) evitarea riscurilor; b) evaluarea riscurilor care nu pot fi evitate;\n",
      "\n",
      "\n",
      "\n",
      "Score: 8.0900\n",
      "Page number: 6\n",
      "Text:\n",
      "5. Universitatea are obligaţia: a) să evalueze riscurile pentru securitatea şi sănătatea personalului angajat, inclusiv la alegerea echipamentelor de muncă, a substanţelor sau preparatelor chimice utilizate şi la amenajarea locurilor de muncă; b) să asigure îmbunătăţirea nivelului securităţii şi al protecţiei sănătăţii personalului angajat şi să fie integrate în ansamblul activităţilor respective şi la toate nivelurile ierarhice; c) să ia în considerare capacităţile personalului în ceea ce priveşte securitatea şi sănătatea în munca, atunci când ii încredinţează sarcini; d) să asigure că planificarea şi introducerea de noi tehnologii sa facă obiectul consultărilor cu personalul angajat și/sau reprezentanţii acestuia în ceea ce priveşte consecinţele asupra securităţii şi sănătăţii personalului angajat, determinate de alegerea echipamentelor, de condiţiile şi mediul de muncă;\n",
      "\n",
      "\n",
      "\n",
      "Score: 7.6237\n",
      "Page number: 26\n",
      "Text:\n",
      "Drepturile şi obligaţiile personalului didactic şi personalului didactic auxiliar se completează cu dispoziţiile prevăzute de legislația specifică în vigoare. VII. Abateri considerate grave şi care pot duce la desfacerea disciplinară a contractului individual de muncă: a. furtul dovedit sau intenţia dovedită de furt al oricărui bun sau valoare din patrimoniul Universităţii; b. frauda constând în obţinerea unor bunuri în dauna Universităţii (inclusiv primirea şi păstrarea în beneficiul personal a unor sume cuvenite Universităţii); c. deteriorarea intenţionată a unor bunuri aparţinând Universităţii; d. utilizarea resurselor Universităţii în scop neautorizat; e. orice faptă susceptibilă de a pune în pericol viaţa şi sănătatea altor persoane sau integritatea bunurilor Universităţii; f. neglijenţa, dacă prin aceasta s-au adus prejudicii materiale sau morale importante sau a fost periclitată viaţa altor persoane; g. refuzul de a îndeplini sarcini rezonabile şi justificate de la şefii ierarhici;\n",
      "\n",
      "\n",
      "\n",
      "Score: 7.3855\n",
      "Page number: 23\n",
      "Text:\n",
      "În baza acesteia, ei pot exprima liber opinii academice în spaţiul universitar şi au libertatea de predare, de cercetare şi de creaţie, în conformitate cu standardele de asigurare a calităţii. 5. Personalul didactic şi de cercetare are dreptul de a publica studii, articole, volume sau opere de artă, de a candida la obţinerea de granturi naţionale şi internaţionale, fără restricţii ale libertăţii academice. 6. Personalul didactic şi de cercetare are dreptul să facă parte din asociaţii şi organizaţii sindicale, profesionale şi culturale, naţionale şi internaţionale, precum şi din organizaţii politice legal constituite, în conformitate cu prevederile legii. V. Obligațiile salariaților Salariaţii Universităţii trebuie să respecte toate obligaţiile care le revin în conformitate cu prevederile legale, cu contractul colectiv de muncă aplicabil, cu regulile de conduită, cu contractele individuale de muncă, cu fişa postului şi cu prezentul regulament. În principal, salariaţii universităţii au următoarele obligaţii: 1.\n",
      "\n",
      "\n",
      "\n"
     ]
    }
   ],
   "source": [
    "# print_resources(query)"
   ]
  }
 ],
 "metadata": {
  "kernelspec": {
   "display_name": "env",
   "language": "python",
   "name": "python3"
  },
  "language_info": {
   "codemirror_mode": {
    "name": "ipython",
    "version": 3
   },
   "file_extension": ".py",
   "mimetype": "text/x-python",
   "name": "python",
   "nbconvert_exporter": "python",
   "pygments_lexer": "ipython3",
   "version": "3.12.3"
  },
  "orig_nbformat": 4
 },
 "nbformat": 4,
 "nbformat_minor": 2
}
