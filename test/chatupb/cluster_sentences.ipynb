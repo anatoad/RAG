{
 "cells": [
  {
   "cell_type": "code",
   "execution_count": null,
   "id": "877370b6",
   "metadata": {},
   "outputs": [
    {
     "name": "stderr",
     "output_type": "stream",
     "text": [
      "/home/ana/ACS/rag/env/lib/python3.12/site-packages/tqdm/auto.py:21: TqdmWarning: IProgress not found. Please update jupyter and ipywidgets. See https://ipywidgets.readthedocs.io/en/stable/user_install.html\n",
      "  from .autonotebook import tqdm as notebook_tqdm\n"
     ]
    }
   ],
   "source": [
    "import json\n",
    "from sentence_transformers import SentenceTransformer\n",
    "from sklearn.cluster import AgglomerativeClustering\n",
    "from sklearn.metrics.pairwise import cosine_distances\n",
    "from collections import defaultdict\n",
    "\n",
    "INPUT_FILE = \"user_queries.json\"\n",
    "MODEL_CACHE_DIR = \"/home/ana/ACS/rag/models\"\n",
    "\n",
    "with open(INPUT_FILE, \"r\", encoding=\"utf-8\") as f:\n",
    "    questions = json.load(f)\n",
    "\n",
    "# load embedding model\n",
    "model = SentenceTransformer('paraphrase-multilingual-MiniLM-L12-v2', cache_folder=MODEL_CACHE_DIR)\n",
    "\n",
    "# generate embeddings\n",
    "embeddings = model.encode(questions, convert_to_tensor=False)\n",
    "\n",
    "# agglomerative clustering using the distance matrix\n",
    "cosine_dist_matrix = cosine_distances(embeddings)\n",
    "clustering_model = AgglomerativeClustering(\n",
    "    metric='precomputed',\n",
    "    linkage='average',\n",
    "    distance_threshold=0.3,\n",
    "    n_clusters=None,\n",
    ")\n",
    "\n",
    "labels = clustering_model.fit_predict(cosine_dist_matrix)"
   ]
  },
  {
   "cell_type": "code",
   "execution_count": 3,
   "id": "ec1230cf",
   "metadata": {},
   "outputs": [
    {
     "name": "stdout",
     "output_type": "stream",
     "text": [
      "Clustered 941 questions into 331 clusters.\n"
     ]
    }
   ],
   "source": [
    "# Collect clustered questions\n",
    "clusters = defaultdict(list)\n",
    "for question, label in zip(questions, labels):\n",
    "    clusters[int(label)].append(question)\n",
    "\n",
    "# Save to JSON\n",
    "with open(\"clusters.json\", \"w\", encoding=\"utf-8\") as f:\n",
    "    json.dump(clusters, f, ensure_ascii=False, indent=2, sort_keys=True)\n",
    "\n",
    "print(f\"Clustered {len(questions)} questions into {len(clusters)} clusters.\")"
   ]
  },
  {
   "cell_type": "code",
   "execution_count": 3,
   "id": "d59a7800",
   "metadata": {},
   "outputs": [
    {
     "name": "stdout",
     "output_type": "stream",
     "text": [
      "Created 331 clusters with 17 unique lengths.\n",
      "Clusters are grouped by length and saved to clusters.json\n"
     ]
    }
   ],
   "source": [
    "# form clusters\n",
    "clusters = defaultdict(list)\n",
    "for question, label in zip(questions, labels):\n",
    "    clusters[int(label)].append(question)\n",
    "\n",
    "# group clusters by length\n",
    "length_clusters = defaultdict(list)\n",
    "for key, value in clusters.items():\n",
    "    length_clusters[len(value)].append(value)\n",
    "\n",
    "sorted_clusters = dict(sorted(length_clusters.items(), reverse=True))\n",
    "\n",
    "OUTPUT_FILE = \"clusters.json\"\n",
    "\n",
    "with open(OUTPUT_FILE, \"w\", encoding=\"utf-8\") as f:\n",
    "    json.dump(sorted_clusters, f, ensure_ascii=False, indent=2)\n",
    "\n",
    "print(f\"Created {len(clusters)} clusters with {len(length_clusters)} unique lengths.\")\n",
    "print(f\"Clusters are grouped by length and saved to {OUTPUT_FILE}\")"
   ]
  },
  {
   "cell_type": "code",
   "execution_count": null,
   "id": "98e768b1",
   "metadata": {},
   "outputs": [],
   "source": []
  }
 ],
 "metadata": {
  "kernelspec": {
   "display_name": "env",
   "language": "python",
   "name": "python3"
  },
  "language_info": {
   "codemirror_mode": {
    "name": "ipython",
    "version": 3
   },
   "file_extension": ".py",
   "mimetype": "text/x-python",
   "name": "python",
   "nbconvert_exporter": "python",
   "pygments_lexer": "ipython3",
   "version": "3.12.10"
  }
 },
 "nbformat": 4,
 "nbformat_minor": 5
}
